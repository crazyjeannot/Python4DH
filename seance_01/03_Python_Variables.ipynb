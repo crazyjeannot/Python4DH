{
 "cells": [
  {
   "cell_type": "markdown",
   "id": "dfc7ec32-186f-425e-9308-4586affbc28c",
   "metadata": {},
   "source": [
    "# Les bases de Python"
   ]
  },
  {
   "cell_type": "markdown",
   "id": "d80b5ebf-6ff0-4ccd-ac6f-f2a4abe0c62e",
   "metadata": {},
   "source": [
    "## Les Variables "
   ]
  },
  {
   "cell_type": "markdown",
   "id": "90a351bc-0e8a-42b4-b553-826396a2505a",
   "metadata": {},
   "source": [
    "Le nom de la variable fera référence à une valeur que vous lui \"attribuez\". Vous pouvez envisager l'attribution de variable comme le fait de placer une valeur \"dans\" la variable, comme si la variable était une petite boîte 🎁\n",
    "\n",
    "Vous attribuez des variables avec un signe égal `=`. En Python, un seul signe égal `=` est l'\"opérateur d'assignation\". Un double signe égal `==` est le \"vrai\" signe égal."
   ]
  },
  {
   "cell_type": "code",
   "execution_count": null,
   "id": "78df54ae-9c0d-482d-8fe9-2178ecae0fcd",
   "metadata": {},
   "outputs": [],
   "source": [
    "=\n",
    "print"
   ]
  },
  {
   "cell_type": "code",
   "execution_count": 1,
   "id": "052c8798-2046-4615-98a5-c55e315092e7",
   "metadata": {},
   "outputs": [
    {
     "data": {
      "text/plain": [
       "True"
      ]
     },
     "execution_count": 1,
     "metadata": {},
     "output_type": "execute_result"
    }
   ],
   "source": [
    "2 * 2 == 4"
   ]
  },
  {
   "cell_type": "code",
   "execution_count": null,
   "id": "2249b356-4d45-453f-97c4-fefad12cdf24",
   "metadata": {},
   "outputs": [],
   "source": [
    "une_autre"
   ]
  },
  {
   "cell_type": "code",
   "execution_count": null,
   "id": "ed9669cc-0d3c-47cd-83a9-5dcd5a6b49e4",
   "metadata": {},
   "outputs": [],
   "source": []
  },
  {
   "cell_type": "code",
   "execution_count": null,
   "id": "a74af8e2-5b2a-4d0d-8a80-873d642fc875",
   "metadata": {},
   "outputs": [],
   "source": []
  },
  {
   "cell_type": "code",
   "execution_count": null,
   "id": "8f6c8b4d-82a7-4aff-a92e-5a8ca6e469f4",
   "metadata": {},
   "outputs": [],
   "source": []
  },
  {
   "cell_type": "code",
   "execution_count": null,
   "id": "4ca723f7-2e51-46b7-9676-42f45e65a650",
   "metadata": {},
   "outputs": [],
   "source": []
  },
  {
   "cell_type": "code",
   "execution_count": null,
   "id": "5a2c6ab8-085c-490e-94c3-abdbb2c95fd1",
   "metadata": {},
   "outputs": [],
   "source": []
  },
  {
   "cell_type": "code",
   "execution_count": null,
   "id": "794808ed-aea9-4e50-8bd9-e97f1dc80860",
   "metadata": {},
   "outputs": [],
   "source": []
  },
  {
   "cell_type": "code",
   "execution_count": null,
   "id": "8f03cf1f-afc1-4fd7-a841-d2afe620dbd3",
   "metadata": {},
   "outputs": [],
   "source": []
  },
  {
   "cell_type": "markdown",
   "id": "88d182ff-3cf3-4947-9403-bd3f094c71b7",
   "metadata": {},
   "source": [
    "### Noms de variables pertinents !\n",
    "Lorsque vous commencez à coder, vous serez presque certainement tenté d'utiliser des noms de variables extrêmement courts comme `f`. Vos doigts vont se fatiguer. Votre café va perdre de son efficacité. Vous verrez d'autres personnes utiliser des variables comme `f`. Vous vous promettrez sûrement de vous rappeler ce que signifie `f`. Mais vous ne le ferez probablement pas.\n",
    "\n",
    "Alors, résistez à la tentation des mauvais noms de variables ! Des noms de variables clairs et précis vont :\n",
    "\n",
    "* rendre votre code plus lisible (tant pour vous que pour les autres)\n",
    "* renforcer votre compréhension de Python et ce qui se passe dans le code\n",
    "* clarifier et renforcer votre réflexion"
   ]
  },
  {
   "cell_type": "code",
   "execution_count": 3,
   "id": "6d64468b-ecb6-4f55-a350-01b200716c7d",
   "metadata": {},
   "outputs": [],
   "source": [
    "import re"
   ]
  },
  {
   "cell_type": "code",
   "execution_count": 4,
   "id": "b337ed61-c464-417f-8f7c-361eaa6915ff",
   "metadata": {},
   "outputs": [],
   "source": [
    "def dm(t):\n",
    "    tm = t.lower()\n",
    "    ms = re.split(\"\\W+\", tm)\n",
    "    return ms\n",
    "\n",
    "f = \"../data/1907_Leblanc-Maurice_Arsene-Lupin-gentleman-cambrioleur.txt\"\n",
    "ft = open(f, encoding=\"utf-8\").read()\n",
    "\n",
    "words = dm(ft)"
   ]
  },
  {
   "cell_type": "code",
   "execution_count": 6,
   "id": "780c6ec8-d8c5-4a01-b5d9-218968f559f9",
   "metadata": {},
   "outputs": [],
   "source": [
    "def decouper_en_mots(texte):\n",
    "    texte_minuscule = texte.lower()\n",
    "    mots_separes = re.split(\"\\W+\", texte_minuscule)\n",
    "    return mots_separes\n",
    "\n",
    "chemin_du_texte = \"../data/1907_Leblanc-Maurice_Arsene-Lupin-gentleman-cambrioleur.txt\"\n",
    "texte = open(chemin_du_texte, encoding=\"utf-8\").read()\n",
    "\n",
    "hehe = decouper_en_mots(texte)"
   ]
  },
  {
   "cell_type": "code",
   "execution_count": null,
   "id": "fb8ea736-284f-4e26-9502-0ae77da8666d",
   "metadata": {},
   "outputs": [],
   "source": []
  },
  {
   "cell_type": "code",
   "execution_count": null,
   "id": "09677b8b-04d4-4afa-960f-a44bfdb81f8b",
   "metadata": {},
   "outputs": [],
   "source": []
  },
  {
   "cell_type": "code",
   "execution_count": null,
   "id": "674fa4d7-5fd6-479e-8a58-8c3b07675e68",
   "metadata": {},
   "outputs": [],
   "source": []
  },
  {
   "cell_type": "code",
   "execution_count": null,
   "id": "9a6a519a-126a-4232-b2b8-6279426126bd",
   "metadata": {},
   "outputs": [],
   "source": []
  },
  {
   "cell_type": "code",
   "execution_count": null,
   "id": "631da94b-80fb-4f6d-9a36-bd216beb0289",
   "metadata": {},
   "outputs": [],
   "source": []
  },
  {
   "cell_type": "code",
   "execution_count": null,
   "id": "386f6d0c-eedb-4adc-8bb0-fc43fac5e6dd",
   "metadata": {},
   "outputs": [],
   "source": []
  }
 ],
 "metadata": {
  "kernelspec": {
   "display_name": "Python 3 (ipykernel)",
   "language": "python",
   "name": "python3"
  },
  "language_info": {
   "codemirror_mode": {
    "name": "ipython",
    "version": 3
   },
   "file_extension": ".py",
   "mimetype": "text/x-python",
   "name": "python",
   "nbconvert_exporter": "python",
   "pygments_lexer": "ipython3",
   "version": "3.10.12"
  }
 },
 "nbformat": 4,
 "nbformat_minor": 5
}
