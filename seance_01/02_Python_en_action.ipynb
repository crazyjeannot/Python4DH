{
 "cells": [
  {
   "cell_type": "markdown",
   "id": "e22c6bd8-f831-4422-b7ff-ed373b0a14b3",
   "metadata": {},
   "source": [
    "# Python en action"
   ]
  },
  {
   "cell_type": "markdown",
   "id": "f77cb317-911f-4578-8a22-4708255e4984",
   "metadata": {},
   "source": [
    "<img src=\"https://cdn.pixabay.com/photo/2017/01/31/23/21/animal-2028134_960_720.png\" alt=\"The command line\" width=\"100%\" >\n"
   ]
  },
  {
   "cell_type": "markdown",
   "id": "ca1f31ba-0ce3-43e5-a80f-73dff8c4f0a0",
   "metadata": {},
   "source": [
    "## Anatomie d'un code Python"
   ]
  },
  {
   "cell_type": "markdown",
   "id": "271ca671-21da-4e5d-b8f1-15c0d9e001b2",
   "metadata": {},
   "source": [
    "Voici un extrait de code Python. Ces lignes, une fois réunies, accomplissent quelque chose de simple mais important. Elles comptent et affichent les mots les plus fréquents dans un fichier texte. L'exemple ci-dessous compte et affiche les 40 mots les plus fréquents dans le roman de Maurice Lebland, \"Arsene Lupin gentleman cambrioleur\" (1907)."
   ]
  },
  {
   "cell_type": "code",
   "execution_count": 16,
   "id": "33e10aba-550d-40f2-8aca-c585ffddf3f6",
   "metadata": {},
   "outputs": [
    {
     "data": {
      "text/plain": [
       "[('lupin', 295),\n",
       " ('arsène', 269),\n",
       " ('bien', 159),\n",
       " ('monsieur', 109),\n",
       " ('homme', 108),\n",
       " ('ganimard', 88),\n",
       " ('rien', 78),\n",
       " ('heures', 65),\n",
       " ('comment', 63),\n",
       " ('fait', 63),\n",
       " ('trois', 62),\n",
       " ('yeux', 57),\n",
       " ('jour', 55),\n",
       " ('andermatt', 55),\n",
       " ('devanne', 54),\n",
       " ('quelques', 52),\n",
       " ('porte', 52),\n",
       " ('temps', 51),\n",
       " ('coup', 49),\n",
       " ('nom', 48),\n",
       " ('nuit', 48),\n",
       " ('lettres', 48),\n",
       " ('peut', 47),\n",
       " ('varin', 47),\n",
       " ('daspry', 46),\n",
       " ('chose', 45),\n",
       " ('dire', 45),\n",
       " ('faire', 45),\n",
       " ('eut', 45),\n",
       " ('main', 44),\n",
       " ('ah', 44),\n",
       " ('petit', 43),\n",
       " ('cependant', 42),\n",
       " ('baron', 42),\n",
       " ('êtes', 42),\n",
       " ('personne', 42),\n",
       " ('jusqu', 42),\n",
       " ('heure', 41),\n",
       " ('affaire', 41),\n",
       " ('jamais', 39)]"
      ]
     },
     "execution_count": 16,
     "metadata": {},
     "output_type": "execute_result"
    }
   ],
   "source": [
    "import re\n",
    "from collections import Counter\n",
    "\n",
    "def decouper_en_mots(un_morceau_de_texte):\n",
    "    texte_minuscule = un_morceau_de_texte.lower()\n",
    "    mots_separes = re.split(\"\\W+\", texte_minuscule)\n",
    "    return mots_separes\n",
    "\n",
    "chemin_du_texte = \"../data/1907_Leblanc-Maurice_Arsene-Lupin-gentleman-cambrioleur.txt\"\n",
    "nombre_de_mots_voulu = 40\n",
    "\n",
    "mots_vides = [\n",
    "    'je', 'tu', 'il', 'elle', 'on', 'nous', 'vous', 'ils', 'elles',\n",
    "    'le', 'la', 'les', 'un', 'une', 'des', 'mon', 'ma', 'mes', 'ton', 'ta', 'tes',\n",
    "    'son', 'sa', 'ses', 'notre', 'votre', 'leurs', 'de', 'du', 'l', 'à', 'au', 'aux', 'en', 'par', 'pour', 'avec',\n",
    "    'sur', 'sous', 'dans', 'vers', 'contre', 'à travers', 'après', 'avant', 'pendant',\n",
    "    'alors', 'quand', 'si', 'comme', 'parce que', 'parce', 'mais', 'ou', 'et', 'donc',\n",
    "    'si', 'car', 'lorsque', 'puisque', 'qu', 'quel', 'quelle', 'quels', 'quelles',\n",
    "    'ainsi', 'autant', 'autre', 'autres', 'celui', 'celle', 'ceux', 'celles',\n",
    "    'chaque', 'ci', 'ça', 'cela', 'ce', 'ceci', 'celui-ci', 'celle-ci',\n",
    "    'celui-là', 'celle-là', 'cent', 'certain', 'certaine', 'certaines', 'certains',\n",
    "    'ceux-ci', 'ceux-là', 'chaque', 'combien', 'comme', 'd', 'dans', 'des', 'du', 'deux',\n",
    "    'devant', 'donc', 'dont', 'duquel', 'elle', 'elles', 'en', 'encore', 'entre',\n",
    "    'envers', 'est', 'et', 'eu', 'eux', 'fin', 'fut', 'hormis', 'hui', 'huit', 'ici',\n",
    "    'il', 'ils', 'je', 'jusque', 'l', 'la', 'le', 'les', 'leur', 'leurs', 'lors',\n",
    "    'lui', 'là', 'ma', 'mais', 'me', 'même', 'mes', 'moi', 'moins', 'mon', 'ne', 'ni',\n",
    "    'nombreuses', 'nombreux', 'notre', 'nous', 'ou', 'où', 'par', 'parmi', 'pas',\n",
    "    'peu', 'plus', 'plupart', 'pour', 'pourquoi', 'quand', 'que', 'quel', 'quelle',\n",
    "    'quelles', 'quels', 'qui', 'quoi', 'sa', 'sans', 'se', 'sept', 'ses', 'si',\n",
    "    'sien', 'soi', 'soit', 'son', 'sont', 'sous', 'soyez', 'sujet', 'sur', 'ta',\n",
    "    'tandis', 'te', 'tel', 'telle', 'telles', 'tels', 'tes', 'toi', 'ton', 'tous',\n",
    "    'tout', 'toute', 'toutes', 'un', 'une', 'va', 'vers', 'voici', 'voilà', 'vont',\n",
    "    'votre', 'vous', 'vu', 'ça', 's', 'n', 'c', 'a', 'm', 'j', 'y', 't', 'ces', \n",
    "    'dit', 'cet', 'oui', 'non', 'était', 'est', 'être', 'été', 'ai', 'puis', 'avez', \n",
    "    'avait', 'avais', 'eût', 'très', 'cette', 'point', 'fois', 'fit', 'aussi', 'suis' \n",
    "]\n",
    "\n",
    "\n",
    "texte_complet = open(chemin_du_texte, encoding=\"utf-8\").read()\n",
    "\n",
    "tous_les_mots = decouper_en_mots(texte_complet)\n",
    "mots_significatifs = [mot for mot in tous_les_mots if mot not in mots_vides]\n",
    "conteur_mots_significatifs = Counter(mots_significatifs)\n",
    "mots_significatifs_frequents = conteur_mots_significatifs.most_common(nombre_de_mots_voulu)\n",
    "\n",
    "mots_significatifs_frequents\n"
   ]
  },
  {
   "cell_type": "markdown",
   "id": "936920e0-1eba-4ad7-aa81-ef0348e228b7",
   "metadata": {},
   "source": [
    "<div class=\"admonition pythonreview\" name=\"html-admonition\" style=\"background: lightgreen; padding: 10px\">\n",
    "  <p class=\"title\">Relecture d'un code Python</p>\n",
    "  <p>Il est important de souligner que le code ci-dessus n'est qu'*une* façon de compter les mots dans un fichier texte avec Python. Ce n'est pas la seule bonne façon. Il n'y a pas de bonne manière de compter les mots dans un fichier texte ou de faire quoi que ce soit d'autre en Python.</p>\n",
    "  <p>Au lieu de demander \"Ce code est-il *correct*?\", demandez-vous :\n",
    "  - \"Ce code est-il efficace ?\"\n",
    "  - \"Ce code est-il lisible ?\"\n",
    "  - \"Ce code m'aide-t-il à atteindre mon objectif ?\"\n",
    "  </p>\n",
    "  <p>Parfois, vous privilégierez l'une de ces préoccupations par rapport à une autre. Peut-être que votre code n'est pas aussi efficace que possible, mais s'il fait le travail et que vous le comprenez, vous ne vous soucierez peut-être pas de l'efficacité maximale. Notre objectif principal pour ce cours est d'étudier la culture et d'argumenter à ce sujet, et non (nécessairement) de devenir les développeurs de logiciels les plus efficaces.</p>\n",
    "</div>\n"
   ]
  },
  {
   "cell_type": "markdown",
   "id": "92568db1-b9d8-4c8c-a473-f8cf0cb10ddc",
   "metadata": {},
   "source": [
    "## Anatomie d'un code Python"
   ]
  },
  {
   "cell_type": "markdown",
   "id": "dfc07aba-ac79-45de-9c73-b1fd09fb3361",
   "metadata": {},
   "source": [
    "### Import Libraries/Packages/Modules\n",
    "\n",
    "**Prêt pour une excellente nouvelle en Python ?** Vous n'avez pas à coder tout par vous-même à partir de zéro ! Beaucoup d'autres personnes ont écrit du code Python que vous pouvez `importer` dans votre propre code, ce qui vous fera gagner du temps et effectuera beaucoup de travail en arrière-plan.\n",
    "\n"
   ]
  },
  {
   "cell_type": "code",
   "execution_count": 5,
   "id": "6c40cf2d-1a03-4e4b-b1c2-9a6803f28754",
   "metadata": {},
   "outputs": [],
   "source": [
    "import re\n",
    "from collections import Counter"
   ]
  },
  {
   "cell_type": "markdown",
   "id": "0b638982-210a-4fc5-be5b-57b54c721c8e",
   "metadata": {},
   "source": [
    "**Nous appelons le code écrit et empaqueté par d'autres personnes une \"bibliothèque\", \"paquet\" ou \"module\".** Nous en parlerons plus dans une leçon ultérieure. Pour l'instant, sachez simplement que vous `importez` les bibliothèques/paquets/modules en haut d'un script Python pour une utilisation ultérieure.\n",
    "\n",
    "- [`Counter`](https://stackabuse.com/introduction-to-pythons-collections-module/) m'aidera à compter les mots.\n",
    "- \n",
    "- [`re`](https://docs.python.org/3/library/re.html#regular-expression-syntax), abrégé d'expressions régulières, est essentiellement une fonction de recherche et de remplacement sophistiquée qui m'aidera à diviser \"The Yellow Wallpaper\" en mots individuels et à supprimer la ponctuation finale."
   ]
  },
  {
   "cell_type": "markdown",
   "id": "8badc7de-3909-47a5-ad38-a06ebab7b6c7",
   "metadata": {},
   "source": [
    "### Définir une Fonction"
   ]
  },
  {
   "cell_type": "markdown",
   "id": "9a6d4a97-31e7-48f4-802a-6fb9a46fc45d",
   "metadata": {},
   "source": [
    "Après avoir `importé` des modules et des bibliothèques, vous définissez généralement vos \"fonctions\" avec `def`. Les fonctions sont une manière astucieuse de regrouper du code afin de pouvoir les réutiliser ultérieurement. Les fonctions permettent également de garder votre code propre et bien organisé."
   ]
  },
  {
   "cell_type": "code",
   "execution_count": 7,
   "id": "4b33eb11-22ef-4ea6-b4e7-4c38bbe09114",
   "metadata": {},
   "outputs": [],
   "source": [
    "def decouper_en_mots(un_morceau_de_texte):\n",
    "    texte_minuscule = un_morceau_de_texte.lower()\n",
    "    mots_separes = re.split(\"\\W+\", texte_minuscule)\n",
    "    return mots_separes"
   ]
  },
  {
   "cell_type": "markdown",
   "id": "ec353d07-79b8-4991-9321-6a7b86428dfb",
   "metadata": {},
   "source": [
    "Ici, nous créons une fonction appelée decouper_en_mots, qui prend n'importe quel morceau de texte, transforme ce texte en minuscules, et divise le texte en une liste de mots propres sans ponctuation ni espaces. Nous n'utilisons pas encore cette fonction."
   ]
  },
  {
   "cell_type": "markdown",
   "id": "b94b6bf7-882b-4e0a-b8bf-959cac5156f7",
   "metadata": {},
   "source": [
    "### Définir les chemins de fichier et affecter les variables"
   ]
  },
  {
   "cell_type": "code",
   "execution_count": 8,
   "id": "1c57d386-e807-496c-836b-6290a7861941",
   "metadata": {},
   "outputs": [],
   "source": [
    "chemin_du_texte = \"../data/1907_Leblanc-Maurice_Arsene-Lupin-gentleman-cambrioleur.txt\"\n",
    "nombre_de_mots_voulu = 40\n",
    "\n",
    "mots_vides = ['je', 'moi', 'mon', 'moi-même', 'nous', 'notre', 'à nous', 'nous-mêmes', 'tu', 'ton', 'tes',\n",
    " 'toi-même', 'vous', 'votre', 'vôtre', 'vous-mêmes', 'il', 'lui', 'son', 'lui-même', 'elle', 'sa', 'ses',\n",
    " 'elle-même', 'cela', 'ses', 'cela-même', 'ils', 'eux', 'leur', 'les leurs', 'eux-mêmes',\n",
    " 'quoi', 'lequel', 'qui', 'à qui', 'ce', 'cette', 'ces', 'ceux', 'suis', 'es', 'est',\n",
    " 'était', 'étaient', 'être', 'été', 'étant', 'avoir', 'as', 'a', 'avait', 'ayant', 'faire', 'fait',\n",
    " 'faisait', 'faisaient', 'fait', 'faisant', 'un', 'une', 'le', 'et', 'mais', 'si', 'ou', 'parce que', 'comme', 'jusqu’à',\n",
    " 'pendant', 'avant', 'après', 'au-dessus', 'en dessous', 'à', 'de', 'vers', 'dans', 'à propos', 'contre', 'entre', 'dans',\n",
    " 'à travers', 'pendant', 'avant', 'après', 'au-dessus', 'en dessous', 'vers', 'haut', 'bas',\n",
    " 'dans', 'hors', 'sur', 'au-dessus', 'sous', 'encore', 'plus loin', 'puis', 'une fois', 'ici',\n",
    " 'là', 'quand', 'où', 'pourquoi', 'comment', 'tout', 'tout', 'les deux', 'chaque', 'peu', 'plus',\n",
    " 'la plupart', 'autre', 'certains', 'tel', 'aucun', 'ni', 'pas', 'seulement', 'propre', 'même', 'tellement',\n",
    " 'que', 'trop', 'très', 's', 't', 'pouvoir', 'volonté', 'juste', 'ne', 'devrait', 'maintenant', 'avoir', 'amp']"
   ]
  },
  {
   "cell_type": "markdown",
   "id": "95870db9-5674-4102-9a5f-c0101b1b9fed",
   "metadata": {},
   "source": [
    "Enfin, nous créons également une variable appelée mots_vides et y insérons une liste de \"mots vides\" courants de la langue anglaise, c'est-à-dire une liste de certains des mots les plus fréquemment utilisés en anglais. Les mots vides sont généralement supprimés d'un texte avant l'analyse informatique afin de mettre l'accent sur des mots moins fréquemment utilisés et plus \"significatifs\"."
   ]
  },
  {
   "cell_type": "markdown",
   "id": "be634eb7-e451-4b8c-97bb-ae0a9471913d",
   "metadata": {},
   "source": [
    "```{margin}\n",
    "Quelles sont les conséquences de l'exclusion des mots vides de notre analyse ? Quand pourrions-nous vouloir inclure de tels mots dans une analyse ?\n",
    "```"
   ]
  },
  {
   "cell_type": "markdown",
   "id": "b9812e31-df69-440c-bbd4-1ad9e457ccbd",
   "metadata": {},
   "source": [
    "### Lire le Fichier"
   ]
  },
  {
   "cell_type": "code",
   "execution_count": 10,
   "id": "1022adb8-2015-4a12-b33f-ba9e66f22bae",
   "metadata": {},
   "outputs": [],
   "source": [
    "texte_complet = open(chemin_du_texte, encoding=\"utf-8\").read()"
   ]
  },
  {
   "cell_type": "markdown",
   "id": "61426275-61cb-49e7-83ef-3f18926316dc",
   "metadata": {},
   "source": [
    "La ligne ci-dessus ouvre \"1907_Leblanc-Maurice_Arsene-Lupin-gentleman-cambrioleur.txt\", lit le roman et l'assigne à la variable `texte_complet`."
   ]
  },
  {
   "cell_type": "markdown",
   "id": "de484f18-a08c-41c9-82e5-89595bf079fa",
   "metadata": {},
   "source": [
    "### Manipulation et Analyse du Fichier"
   ]
  },
  {
   "cell_type": "markdown",
   "id": "591d28f2-1b19-4792-bce8-677547bb4a27",
   "metadata": {},
   "source": [
    "Pour compter les mots dans \"The Yellow Wallpaper\", nous devons découper le texte complet en mots individuels. Voici comment nous appelons la fonction `decouper_en_mots`, que nous avons créée précédemment, et l'utilisons pour diviser le `texte_complet` du récit en mots individuels. Ensuite, nous attribuons cette valeur à la variable `tous_les_mots`."
   ]
  },
  {
   "cell_type": "code",
   "execution_count": 17,
   "id": "9803fe52-56c3-45f2-a384-14c7b22a6d8b",
   "metadata": {},
   "outputs": [],
   "source": [
    "tous_les_mots = decouper_en_mots(texte_complet)"
   ]
  },
  {
   "cell_type": "markdown",
   "id": "4ebd2f70-985a-45fd-95c1-822b9968806c",
   "metadata": {},
   "source": [
    "Ensuite, nous supprimons les mots vides de notre liste. La ligne de code ci-dessous crée une nouvelle liste de mots qui inclut chaque mot dans tous_les_mots s'il n'apparaît pas dans mots_vides (c'est-à-dire qu'elle exclut les mots vides)."
   ]
  },
  {
   "cell_type": "code",
   "execution_count": 18,
   "id": "0a2ae9f3-c0a8-4956-bdf3-9681db650cf0",
   "metadata": {},
   "outputs": [],
   "source": [
    "mots_significatifs = [mot for mot in tous_les_mots if mot not in mots_vides]"
   ]
  },
  {
   "cell_type": "markdown",
   "id": "0fb7b6fe-792f-4fd9-ab71-1eb3c8e28a63",
   "metadata": {},
   "source": [
    "Maintenant, nous sommes prêts à compter ! Nous utilisons mots_significatifs dans notre objet Counter, ce qui nous donne un décompte du nombre de fois où chaque mot de l'histoire apparaît."
   ]
  },
  {
   "cell_type": "code",
   "execution_count": 19,
   "id": "6384a43a-ecdb-4a13-85d7-a8869d051f2e",
   "metadata": {},
   "outputs": [],
   "source": [
    "conteur_mots_significatifs = Counter(mots_significatifs)"
   ]
  },
  {
   "cell_type": "markdown",
   "id": "3f276d47-911e-47c4-8a34-3164911a8a35",
   "metadata": {},
   "source": [
    "### Résultats de la sortie : "
   ]
  },
  {
   "cell_type": "markdown",
   "id": "49c6c5b8-8e88-4b2f-b4f8-bc20b197b52a",
   "metadata": {},
   "source": [
    "Enfin, nous extrayons les 40 mots les plus fréquemment rencontrés à partir de notre décompte complet. Nous créons une dernière variable et récupérons nos 40 premiers mots, comme nous l'avions établi précédemment."
   ]
  },
  {
   "cell_type": "code",
   "execution_count": 20,
   "id": "224a627e-efff-4484-9f75-f854192e322a",
   "metadata": {},
   "outputs": [],
   "source": [
    "mots_significatifs_frequents = conteur_mots_significatifs.most_common(nombre_de_mots_voulu)"
   ]
  },
  {
   "cell_type": "markdown",
   "id": "54657a7b-5eaf-472c-8780-91e935c34098",
   "metadata": {},
   "source": [
    "Nous pouvons afficher nos résultats en exécutant une cellule avec le nom de variable mots_plus_frequents."
   ]
  },
  {
   "cell_type": "code",
   "execution_count": 23,
   "id": "a0bae19a-5a34-4fc3-b23f-28898bead64d",
   "metadata": {},
   "outputs": [
    {
     "data": {
      "text/plain": [
       "[('lupin', 295),\n",
       " ('arsène', 269),\n",
       " ('bien', 159),\n",
       " ('monsieur', 109),\n",
       " ('homme', 108),\n",
       " ('ganimard', 88),\n",
       " ('rien', 78),\n",
       " ('heures', 65),\n",
       " ('comment', 63),\n",
       " ('fait', 63),\n",
       " ('trois', 62),\n",
       " ('yeux', 57),\n",
       " ('jour', 55),\n",
       " ('andermatt', 55),\n",
       " ('devanne', 54),\n",
       " ('quelques', 52),\n",
       " ('porte', 52),\n",
       " ('temps', 51),\n",
       " ('coup', 49),\n",
       " ('nom', 48),\n",
       " ('nuit', 48),\n",
       " ('lettres', 48),\n",
       " ('peut', 47),\n",
       " ('varin', 47),\n",
       " ('daspry', 46),\n",
       " ('chose', 45),\n",
       " ('dire', 45),\n",
       " ('faire', 45),\n",
       " ('eut', 45),\n",
       " ('main', 44),\n",
       " ('ah', 44),\n",
       " ('petit', 43),\n",
       " ('cependant', 42),\n",
       " ('baron', 42),\n",
       " ('êtes', 42),\n",
       " ('personne', 42),\n",
       " ('jusqu', 42),\n",
       " ('heure', 41),\n",
       " ('affaire', 41),\n",
       " ('jamais', 39)]"
      ]
     },
     "execution_count": 23,
     "metadata": {},
     "output_type": "execute_result"
    }
   ],
   "source": [
    "mots_significatifs_frequents"
   ]
  },
  {
   "cell_type": "code",
   "execution_count": 24,
   "id": "50443d82-fae2-4e25-972b-d0cb1903b56f",
   "metadata": {},
   "outputs": [
    {
     "name": "stdout",
     "output_type": "stream",
     "text": [
      "[('lupin', 295), ('arsène', 269), ('bien', 159), ('monsieur', 109), ('homme', 108), ('ganimard', 88), ('rien', 78), ('heures', 65), ('comment', 63), ('fait', 63), ('trois', 62), ('yeux', 57), ('jour', 55), ('andermatt', 55), ('devanne', 54), ('quelques', 52), ('porte', 52), ('temps', 51), ('coup', 49), ('nom', 48), ('nuit', 48), ('lettres', 48), ('peut', 47), ('varin', 47), ('daspry', 46), ('chose', 45), ('dire', 45), ('faire', 45), ('eut', 45), ('main', 44), ('ah', 44), ('petit', 43), ('cependant', 42), ('baron', 42), ('êtes', 42), ('personne', 42), ('jusqu', 42), ('heure', 41), ('affaire', 41), ('jamais', 39)]\n"
     ]
    }
   ],
   "source": [
    "print(mots_significatifs_frequents)"
   ]
  },
  {
   "cell_type": "markdown",
   "id": "556785fb-0c82-40c6-a059-aef559500cc8",
   "metadata": {},
   "source": [
    "### Ajouter des commentaires : \n",
    "`#` ou `\"\"\" \"\"\"`"
   ]
  },
  {
   "cell_type": "code",
   "execution_count": null,
   "id": "7c545a9e-0f66-4999-88b2-3b019e5f6356",
   "metadata": {},
   "outputs": [],
   "source": [
    "# hehe"
   ]
  },
  {
   "cell_type": "markdown",
   "id": "56f0729d-ff12-447f-bacb-81d294ce0bbb",
   "metadata": {},
   "source": [
    "### Editeur de texte —> Ligne de commandes"
   ]
  },
  {
   "cell_type": "raw",
   "id": "32dd4c6f-3d7d-45f2-a6eb-e5659f4aba1f",
   "metadata": {},
   "source": []
  },
  {
   "cell_type": "markdown",
   "id": "1db4b803-3195-4107-8b9b-111a2c946bfd",
   "metadata": {},
   "source": [
    "Vous pouvez également exécuter un script Python en l'écrivant dans un éditeur de texte, puis en l'exécutant à partir de la ligne de commande.\n",
    "\n",
    "Si vous copiez et collez le code ci-dessus dans un éditeur de texte simple (comme TextEdit ou NotePad) et que vous nommez le fichier avec l'extension \".py\" (l'extension de fichier pour le code Python), après cela on peut exécuter le script depuis votre ligne de commande."
   ]
  },
  {
   "cell_type": "code",
   "execution_count": 27,
   "id": "578b221a-e951-4a31-b806-7db4d8aaa2c2",
   "metadata": {},
   "outputs": [
    {
     "name": "stdout",
     "output_type": "stream",
     "text": [
      "Les 40 mots les plus fréquents sont :\n",
      "[('de', 2095), ('et', 1500), ('le', 1420), ('la', 1348), ('il', 1291), ('l', 1169), ('à', 1003), ('un', 867), ('que', 786), ('les', 777), ('d', 771), ('je', 694), ('en', 635), ('une', 569), ('pas', 541), ('est', 528), ('vous', 515), ('qui', 474), ('qu', 472), ('n', 458), ('ne', 438), ('des', 435), ('ce', 429), ('s', 418), ('se', 375), ('du', 373), ('dans', 355), ('mais', 335), ('on', 332), ('lupin', 295), ('elle', 294), ('au', 293), ('était', 280), ('lui', 276), ('par', 274), ('a', 270), ('c', 269), ('arsène', 269), ('son', 267), ('plus', 266)]\n"
     ]
    }
   ],
   "source": [
    "!python script_conteur_de_mots.py"
   ]
  },
  {
   "cell_type": "code",
   "execution_count": null,
   "id": "cb75eebb-0231-4ecb-8baf-ed923b45bbe1",
   "metadata": {},
   "outputs": [],
   "source": []
  }
 ],
 "metadata": {
  "kernelspec": {
   "display_name": "Python 3 (ipykernel)",
   "language": "python",
   "name": "python3"
  },
  "language_info": {
   "codemirror_mode": {
    "name": "ipython",
    "version": 3
   },
   "file_extension": ".py",
   "mimetype": "text/x-python",
   "name": "python",
   "nbconvert_exporter": "python",
   "pygments_lexer": "ipython3",
   "version": "3.10.12"
  }
 },
 "nbformat": 4,
 "nbformat_minor": 5
}
