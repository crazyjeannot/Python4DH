{
 "cells": [
  {
   "cell_type": "markdown",
   "id": "e506d351-3bdb-4587-be5b-ac556b4627aa",
   "metadata": {},
   "source": [
    "# Les Bases de Python\n",
    "\n",
    "## Les Types de Données"
   ]
  },
  {
   "cell_type": "markdown",
   "id": "ae5291ba-1943-4ac4-be5f-2d9088c59d0a",
   "metadata": {},
   "source": [
    "<img src=\"https://hips.hearstapps.com/digitalspyuk.cdnds.net/16/08/1456483171-pokemon2.jpg?resize=768:*\" >"
   ]
  },
  {
   "cell_type": "markdown",
   "id": "37529e21-898b-4a8a-b261-612cdb2def65",
   "metadata": {},
   "source": [
    "Il existe quatre types de données essentiels en Python, chacun ayant des fonctionnalités et capacités différentes :"
   ]
  },
  {
   "cell_type": "markdown",
   "id": "90ee0766-23af-4573-b970-cce8cc774101",
   "metadata": {},
   "source": [
    "- Chaînes de caractères (Texte)"
   ]
  },
  {
   "cell_type": "code",
   "execution_count": null,
   "id": "464112a4-532c-412d-8d9a-2d3159bd0ffd",
   "metadata": {},
   "outputs": [],
   "source": []
  },
  {
   "cell_type": "markdown",
   "id": "fb8ed781-d4d3-4e21-b031-f1b12c36c299",
   "metadata": {},
   "source": [
    "- Entiers (Nombres entiers)"
   ]
  },
  {
   "cell_type": "code",
   "execution_count": null,
   "id": "46c25ed1-0e9a-489c-ab5e-46dbdb803c3f",
   "metadata": {},
   "outputs": [],
   "source": []
  },
  {
   "cell_type": "markdown",
   "id": "9334da41-1292-4460-9b61-c2795920b722",
   "metadata": {},
   "source": [
    "- Flottants (Nombres décimaux)"
   ]
  },
  {
   "cell_type": "code",
   "execution_count": null,
   "id": "58ea99e4-3f42-4004-9280-3f5a028e0891",
   "metadata": {},
   "outputs": [],
   "source": []
  },
  {
   "cell_type": "markdown",
   "id": "6fb0a6d2-cc9a-4479-96e5-1470eca1e2cf",
   "metadata": {},
   "source": [
    "- Booléens (Vrai/Faux)"
   ]
  },
  {
   "cell_type": "code",
   "execution_count": null,
   "id": "8ebe575d-32cf-4b95-8631-109907d8d005",
   "metadata": {},
   "outputs": [],
   "source": []
  },
  {
   "cell_type": "markdown",
   "id": "ad428dfc-0964-4b61-8a95-3cd326134de0",
   "metadata": {},
   "source": [
    "Examinez les variables `chemin_du_texte` et `nombre_de_mots_voulu` dans le code de comptage de mots ci-dessous.\n",
    "\n",
    "Quelles différences remarquez-vous entre ces deux variables et leurs valeurs correspondantes ?"
   ]
  },
  {
   "cell_type": "code",
   "execution_count": 3,
   "id": "7b2ef673-3782-40f5-9777-71e23a39f161",
   "metadata": {},
   "outputs": [],
   "source": [
    "# Import des modules nécessaires\n",
    "import re  # Module pour les expressions régulières\n",
    "from collections import Counter  # Objet de comptage\n",
    "\n",
    "# Fonction pour découper le texte en mots\n",
    "def decouper_en_mots(un_morceau_de_texte):\n",
    "    texte_minuscule = un_morceau_de_texte.lower()  # Convertir en minuscules\n",
    "    mots_separes = re.split(\"\\W+\", texte_minuscule)  # Séparer les mots\n",
    "    return mots_separes  # Retourner la liste de mots\n",
    "\n",
    "# Chemin d'accès du texte\n",
    "chemin_du_texte = \"../data/txt/1907_Leblanc-Maurice_Arsene-Lupin-gentleman-cambrioleur.txt\"\n",
    "\n",
    "# Nombre de mots les plus fréquents à afficher\n",
    "nombre_de_mots_voulu = 40\n"
   ]
  },
  {
   "cell_type": "code",
   "execution_count": null,
   "id": "41a55deb-4af3-470e-8ab7-7b0c038f1295",
   "metadata": {},
   "outputs": [],
   "source": []
  },
  {
   "cell_type": "markdown",
   "id": "18d29c7a-5ecf-4f60-8b7b-1c6b6ea3c234",
   "metadata": {},
   "source": [
    "| Data Type       | Explanation          | Example  |\n",
    "| ------------- |:-------------:| -----:|\n",
    "| String     | Texte | ```\"../data/txt/1907_Leblanc-Maurice_Arsene-Lupin-gentleman-cambrioleur.txt\"``` |\n",
    "| Integer     | Nombre Entier      |   ```40``` |\n",
    "| Float | Nombre Décimal      |   ```40.2``` |\n",
    "| Boolean | True/False     |   ```False``` |"
   ]
  },
  {
   "cell_type": "code",
   "execution_count": null,
   "id": "cd1f8115-86d1-49ed-83ba-eb5e680aaee5",
   "metadata": {},
   "outputs": [],
   "source": []
  },
  {
   "cell_type": "markdown",
   "id": "c44eb7db-de90-4f26-93ce-018d3dc0e2df",
   "metadata": {},
   "source": [
    "### Vérifier les Types de Données\n",
    "\n",
    "- avec type() var str/int, \"eheh\", x"
   ]
  },
  {
   "cell_type": "code",
   "execution_count": null,
   "id": "079b3199-bb47-4a94-8156-18ea8bd06dfc",
   "metadata": {},
   "outputs": [],
   "source": []
  },
  {
   "cell_type": "code",
   "execution_count": null,
   "id": "552d54b5-e9ad-464a-aee5-c36f8f9b0589",
   "metadata": {},
   "outputs": [],
   "source": []
  },
  {
   "cell_type": "markdown",
   "id": "06ec5b1e-1aa5-413f-8794-00c6c9b70054",
   "metadata": {},
   "source": [
    "## String\n",
    "\n",
    "Une *chaîne de caractères* est un type de données Python qui est traité comme du texte, même s'il contient un nombre. Les chaînes de caractères sont toujours encapsulées entre des guillemets simples `'c'est une chaîne'` ou des guillemets doubles `\"c'est une chaîne\"`."
   ]
  },
  {
   "cell_type": "code",
   "execution_count": null,
   "id": "ce9465c0-422d-4f59-bc16-41a8b2003224",
   "metadata": {},
   "outputs": [],
   "source": [
    "'Ceci est une chaîne de caractères'"
   ]
  },
  {
   "cell_type": "code",
   "execution_count": null,
   "id": "4ff31ea1-0b32-4589-8291-65f4b5ef15db",
   "metadata": {},
   "outputs": [],
   "source": [
    "\"Ceci est également une chaîne de caractères, même si elle contient un nombre comme 42\""
   ]
  },
  {
   "cell_type": "code",
   "execution_count": null,
   "id": "9972cabc-cb89-4743-a99d-f297cd7ea634",
   "metadata": {},
   "outputs": [],
   "source": [
    "Ceci n'est pas une string"
   ]
  },
  {
   "cell_type": "code",
   "execution_count": 12,
   "id": "6ed959fa-c991-4988-b26b-fab91a7fb677",
   "metadata": {},
   "outputs": [],
   "source": [
    "string = \"Arsène Lupin n'est pas un vrai méchant, il est même plutôt gentil\""
   ]
  },
  {
   "cell_type": "markdown",
   "id": "f399b9ea-abc0-404f-8e59-35147355f497",
   "metadata": {},
   "source": [
    "type()"
   ]
  },
  {
   "cell_type": "markdown",
   "id": "dfc907b7-70cf-4a76-b795-ed2ce6537dda",
   "metadata": {},
   "source": [
    "### f-String"
   ]
  },
  {
   "cell_type": "markdown",
   "id": "aa570a11-6b18-4a4f-9828-5a3e3dc32793",
   "metadata": {},
   "source": [
    "Un type spécial de chaîne de caractères que nous allons utiliser dans ce cours s'appelle une *f-string*. Une f-string, abréviation de \"formatted string literal\", vous permet d'insérer une variable directement dans une chaîne de caractères. [Les f-strings ont été introduites avec la version 3.6 de Python](https://docs.python.org/3/whatsnew/3.6.html#new-features).\n",
    "\n",
    "Une f-string doit commencer par un `f` en dehors des guillemets. Ensuite, à l'intérieur des guillemets, la variable insérée doit être placée entre des accolades `{}`."
   ]
  },
  {
   "cell_type": "code",
   "execution_count": 13,
   "id": "1271a228-5dc2-4c5a-b88e-d1c48928e038",
   "metadata": {},
   "outputs": [
    {
     "name": "stdout",
     "output_type": "stream",
     "text": [
      "Lupin est un gentil cambrioleur: \n",
      "\n",
      "'Arsène Lupin n'est pas un vrai méchant, il est même plutôt gentil'\n"
     ]
    }
   ],
   "source": [
    "print(f\"Lupin est un gentil cambrioleur: \\n\\n'{string}'\")"
   ]
  },
  {
   "cell_type": "markdown",
   "id": "25c5e281-5623-4da9-8f18-0e12160ae693",
   "metadata": {},
   "source": [
    "## Integers & Floats\n",
    "\n",
    "Un *entier* et un *flottant* (abrégé en *nombre à virgule flottante* / nombre décimale) sont deux types de données Python pour représenter des nombres. Les entiers représentent des nombres entiers. Les flottants représentent des nombres avec des décimales. Ils n'ont pas besoin d'être placés entre guillemets."
   ]
  },
  {
   "cell_type": "code",
   "execution_count": 4,
   "id": "23a1c9d3-9736-43fd-a651-6c3654e35e37",
   "metadata": {},
   "outputs": [
    {
     "data": {
      "text/plain": [
       "int"
      ]
     },
     "execution_count": 4,
     "metadata": {},
     "output_type": "execute_result"
    }
   ],
   "source": [
    "type(40)"
   ]
  },
  {
   "cell_type": "code",
   "execution_count": 5,
   "id": "1973b2c6-4668-4f11-a253-152e2af30b19",
   "metadata": {},
   "outputs": [
    {
     "data": {
      "text/plain": [
       "float"
      ]
     },
     "execution_count": 5,
     "metadata": {},
     "output_type": "execute_result"
    }
   ],
   "source": [
    "type(40.00004)"
   ]
  },
  {
   "cell_type": "markdown",
   "id": "7562fea0-b75b-4c51-8078-afadf75c0253",
   "metadata": {},
   "source": [
    "| Operation       | Explanation                                                                      |\n",
    "|-----------------|-----------------------------------------------------------------------------|\n",
    "| `x` + `y`           | sum of `x` and `y`                                                              |\n",
    "| `x` - `y`           | difference of `x` and `y`                                                       |\n",
    "| `x` * `y`           | product of `x` and `y`                                                          |\n",
    "| `x` / `y`           | quotient of ``x`` and `y`                                                         |\n",
    "| ``x`` // `y`          | floored quotient of `x` and\n",
    "`y`                                                 |\n",
    "| `x` % `y`           | remainder of `x` / `y`                                                          |\n",
    "| -`x`              | `x` negated                                                                   |\n",
    "| +`x`              | `x` unchanged                                                                 |\n",
    "| `abs(x)`          | absolute value or magnitude of `x`                                         |\n",
    "| `int(x)`          | `x` converted to integer                                                      |\n",
    "| `float(x)`        | `x` converted to floating point                                               |\n",
    "| `pow(x, y)`       | `x` to the power `y`                                                            |\n",
    "| `x` ** `y`          | `x` to the power `y`                                                            |\n"
   ]
  },
  {
   "cell_type": "markdown",
   "id": "f1100811-7b14-4877-a223-04f823d2f746",
   "metadata": {},
   "source": [
    "### Multiplication\n",
    "\n",
    "x, y, x*y"
   ]
  },
  {
   "cell_type": "code",
   "execution_count": null,
   "id": "895b1a8c-fe85-4f50-a774-bb25fabe768c",
   "metadata": {},
   "outputs": [],
   "source": []
  },
  {
   "cell_type": "markdown",
   "id": "c739f027-7869-499e-92a8-c2c13a35f5c8",
   "metadata": {},
   "source": [
    "#### Exponents"
   ]
  },
  {
   "cell_type": "code",
   "execution_count": null,
   "id": "0b507166-cb92-4458-b078-8b69a509bb74",
   "metadata": {},
   "outputs": [],
   "source": []
  },
  {
   "cell_type": "markdown",
   "id": "24aeeaba-65e3-4f46-b83a-239010a01113",
   "metadata": {},
   "source": [
    "#### Remainder"
   ]
  },
  {
   "cell_type": "code",
   "execution_count": null,
   "id": "0134a81b-f331-414c-a420-add2639e3d7b",
   "metadata": {},
   "outputs": [],
   "source": []
  },
  {
   "cell_type": "markdown",
   "id": "0cc5ce95-171b-432e-91f5-84e991d66259",
   "metadata": {},
   "source": [
    "## Booleans"
   ]
  },
  {
   "cell_type": "markdown",
   "id": "ec1f4f3d-565c-4f45-a43c-617d53fc368a",
   "metadata": {},
   "source": [
    "Booleans are \"truth\" values. They report on whether things in your Python universe are `True` or `False`. There are the only two options for a boolean: `True` or `False`. "
   ]
  },
  {
   "cell_type": "markdown",
   "id": "b4fefb48-8c49-4ed8-8857-6e45e88aff7d",
   "metadata": {},
   "source": [
    "<div class=\"admonition pythonreview\" name=\"html-admonition\" style=\"background: lightgreen; padding: 10px\">\n",
    "<p class=\"title\">Révision Python</p>\n",
    "<p>Rappelez-vous la différence entre un signe égal simple `=` et un double signe égal `==` ?</p>\n",
    " \n",
    "<ul>\n",
    "<li>Un signe égal simple `=` est utilisé pour l'attribution de variables</li> \n",
    "<li>Un double signe égal `==` est utilisé comme opérateur d'égalité</li>\n",
    "</div>"
   ]
  },
  {
   "cell_type": "code",
   "execution_count": null,
   "id": "f70c3e45-c3a2-40ac-9045-435ca716659b",
   "metadata": {},
   "outputs": [],
   "source": [
    "Lupin = 'serie netflix'"
   ]
  },
  {
   "cell_type": "code",
   "execution_count": null,
   "id": "f4593a5e-0253-4f39-bd95-00410a3abb54",
   "metadata": {},
   "outputs": [],
   "source": [
    "Lupin == 'serie netflix'"
   ]
  },
  {
   "cell_type": "code",
   "execution_count": null,
   "id": "74056f99-37c3-466b-98ee-95556a7b6d42",
   "metadata": {},
   "outputs": [],
   "source": [
    "type(Lupin == 'serie netflix')"
   ]
  },
  {
   "cell_type": "code",
   "execution_count": null,
   "id": "8c6c32a3-a4ff-4f7c-84a9-f573be8dc5f9",
   "metadata": {},
   "outputs": [],
   "source": [
    "Lupin == \"roman d'aventure\""
   ]
  },
  {
   "cell_type": "code",
   "execution_count": null,
   "id": "a6550026-294e-43b2-ba6c-973375be8b99",
   "metadata": {},
   "outputs": [],
   "source": []
  },
  {
   "cell_type": "markdown",
   "id": "dddc96e4-572e-4a74-b02e-e982c6ddc48e",
   "metadata": {},
   "source": [
    "## TypeError"
   ]
  },
  {
   "cell_type": "markdown",
   "id": "783433f9-d129-4cda-a16e-3153f000c59a",
   "metadata": {},
   "source": [
    "Si vous n'utilisez pas le bon \"type\" de données pour une méthode ou une fonction particulière, vous obtiendrez une `TypeError` (erreur de type).\n",
    "\n",
    "Voyons ce qui se passe si nous changeons le \"type\" de données de `nombre_de_mots_voulu` en une chaîne de caractères `\"40\"` au lieu d'un entier."
   ]
  },
  {
   "cell_type": "code",
   "execution_count": 9,
   "id": "98f0a5e6-5d14-4445-9865-a7379a2d1e22",
   "metadata": {},
   "outputs": [
    {
     "ename": "TypeError",
     "evalue": "'>=' not supported between instances of 'str' and 'int'",
     "output_type": "error",
     "traceback": [
      "\u001b[0;31m---------------------------------------------------------------------------\u001b[0m",
      "\u001b[0;31mTypeError\u001b[0m                                 Traceback (most recent call last)",
      "Cell \u001b[0;32mIn[9], line 56\u001b[0m\n\u001b[1;32m     53\u001b[0m conteur_mots_significatifs \u001b[38;5;241m=\u001b[39m Counter(mots_significatifs)\n\u001b[1;32m     55\u001b[0m \u001b[38;5;66;03m# Extraire les mots les plus fréquents\u001b[39;00m\n\u001b[0;32m---> 56\u001b[0m mots_significatifs_frequents \u001b[38;5;241m=\u001b[39m \u001b[43mconteur_mots_significatifs\u001b[49m\u001b[38;5;241;43m.\u001b[39;49m\u001b[43mmost_common\u001b[49m\u001b[43m(\u001b[49m\u001b[43mnombre_de_mots_voulu\u001b[49m\u001b[43m)\u001b[49m\n\u001b[1;32m     58\u001b[0m \u001b[38;5;66;03m# Afficher les mots les plus fréquents\u001b[39;00m\n\u001b[1;32m     59\u001b[0m \u001b[38;5;28mprint\u001b[39m(\u001b[38;5;124m\"\u001b[39m\u001b[38;5;124mLes\u001b[39m\u001b[38;5;124m\"\u001b[39m, nombre_de_mots_voulu, \u001b[38;5;124m\"\u001b[39m\u001b[38;5;124mmots les plus fréquents sont :\u001b[39m\u001b[38;5;124m\"\u001b[39m)\n",
      "File \u001b[0;32m/usr/lib/python3.10/collections/__init__.py:602\u001b[0m, in \u001b[0;36mCounter.most_common\u001b[0;34m(self, n)\u001b[0m\n\u001b[1;32m    600\u001b[0m \u001b[38;5;66;03m# Lazy import to speedup Python startup time\u001b[39;00m\n\u001b[1;32m    601\u001b[0m \u001b[38;5;28;01mimport\u001b[39;00m \u001b[38;5;21;01mheapq\u001b[39;00m\n\u001b[0;32m--> 602\u001b[0m \u001b[38;5;28;01mreturn\u001b[39;00m \u001b[43mheapq\u001b[49m\u001b[38;5;241;43m.\u001b[39;49m\u001b[43mnlargest\u001b[49m\u001b[43m(\u001b[49m\u001b[43mn\u001b[49m\u001b[43m,\u001b[49m\u001b[43m \u001b[49m\u001b[38;5;28;43mself\u001b[39;49m\u001b[38;5;241;43m.\u001b[39;49m\u001b[43mitems\u001b[49m\u001b[43m(\u001b[49m\u001b[43m)\u001b[49m\u001b[43m,\u001b[49m\u001b[43m \u001b[49m\u001b[43mkey\u001b[49m\u001b[38;5;241;43m=\u001b[39;49m\u001b[43m_itemgetter\u001b[49m\u001b[43m(\u001b[49m\u001b[38;5;241;43m1\u001b[39;49m\u001b[43m)\u001b[49m\u001b[43m)\u001b[49m\n",
      "File \u001b[0;32m/usr/lib/python3.10/heapq.py:540\u001b[0m, in \u001b[0;36mnlargest\u001b[0;34m(n, iterable, key)\u001b[0m\n\u001b[1;32m    538\u001b[0m     \u001b[38;5;28;01mpass\u001b[39;00m\n\u001b[1;32m    539\u001b[0m \u001b[38;5;28;01melse\u001b[39;00m:\n\u001b[0;32m--> 540\u001b[0m     \u001b[38;5;28;01mif\u001b[39;00m \u001b[43mn\u001b[49m\u001b[43m \u001b[49m\u001b[38;5;241;43m>\u001b[39;49m\u001b[38;5;241;43m=\u001b[39;49m\u001b[43m \u001b[49m\u001b[43msize\u001b[49m:\n\u001b[1;32m    541\u001b[0m         \u001b[38;5;28;01mreturn\u001b[39;00m \u001b[38;5;28msorted\u001b[39m(iterable, key\u001b[38;5;241m=\u001b[39mkey, reverse\u001b[38;5;241m=\u001b[39m\u001b[38;5;28;01mTrue\u001b[39;00m)[:n]\n\u001b[1;32m    543\u001b[0m \u001b[38;5;66;03m# When key is none, use simpler decoration\u001b[39;00m\n",
      "\u001b[0;31mTypeError\u001b[0m: '>=' not supported between instances of 'str' and 'int'"
     ]
    }
   ],
   "source": [
    "# Import des modules nécessaires\n",
    "import re  # Module pour les expressions régulières\n",
    "from collections import Counter  # Objet de comptage\n",
    "\n",
    "# Fonction pour découper le texte en mots\n",
    "def decouper_en_mots(un_morceau_de_texte):\n",
    "    texte_minuscule = un_morceau_de_texte.lower()  # Convertir en minuscules\n",
    "    mots_separes = re.split(\"\\W+\", texte_minuscule)  # Séparer les mots\n",
    "    return mots_separes  # Retourner la liste de mots\n",
    "\n",
    "# Chemin d'accès du texte\n",
    "chemin_du_texte = \"../data/txt/1907_Leblanc-Maurice_Arsene-Lupin-gentleman-cambrioleur.txt\"\n",
    "\n",
    "# Nombre de mots les plus fréquents à afficher\n",
    "nombre_de_mots_voulu = '40'\n",
    "\n",
    "# Liste des mots vides à exclure\n",
    "mots_vides = ['je', 'tu', 'il', 'elle', 'on', 'nous', 'vous', 'ils', 'elles',\n",
    "    'le', 'la', 'les', 'un', 'une', 'des', 'mon', 'ma', 'mes', 'ton', 'ta', 'tes',\n",
    "    'son', 'sa', 'ses', 'notre', 'votre', 'leurs', 'de', 'du', 'l', 'à', 'au', 'aux', 'en', 'par', 'pour', 'avec',\n",
    "    'sur', 'sous', 'dans', 'vers', 'contre', 'à travers', 'après', 'avant', 'pendant',\n",
    "    'alors', 'quand', 'si', 'comme', 'parce que', 'parce', 'mais', 'ou', 'et', 'donc',\n",
    "    'si', 'car', 'lorsque', 'puisque', 'qu', 'quel', 'quelle', 'quels', 'quelles',\n",
    "    'ainsi', 'autant', 'autre', 'autres', 'celui', 'celle', 'ceux', 'celles',\n",
    "    'chaque', 'ci', 'ça', 'cela', 'ce', 'ceci', 'celui-ci', 'celle-ci',\n",
    "    'celui-là', 'celle-là', 'cent', 'certain', 'certaine', 'certaines', 'certains',\n",
    "    'ceux-ci', 'ceux-là', 'chaque', 'combien', 'comme', 'd', 'dans', 'des', 'du', 'deux',\n",
    "    'devant', 'donc', 'dont', 'duquel', 'elle', 'elles', 'en', 'encore', 'entre',\n",
    "    'envers', 'est', 'et', 'eu', 'eux', 'fin', 'fut', 'hormis', 'hui', 'huit', 'ici',\n",
    "    'il', 'ils', 'je', 'jusque', 'l', 'la', 'le', 'les', 'leur', 'leurs', 'lors',\n",
    "    'lui', 'là', 'ma', 'mais', 'me', 'même', 'mes', 'moi', 'moins', 'mon', 'ne', 'ni',\n",
    "    'nombreuses', 'nombreux', 'notre', 'nous', 'ou', 'où', 'par', 'parmi', 'pas',\n",
    "    'peu', 'plus', 'plupart', 'pour', 'pourquoi', 'quand', 'que', 'quel', 'quelle',\n",
    "    'quelles', 'quels', 'qui', 'quoi', 'sa', 'sans', 'se', 'sept', 'ses', 'si',\n",
    "    'sien', 'soi', 'soit', 'son', 'sont', 'sous', 'soyez', 'sujet', 'sur', 'ta',\n",
    "    'tandis', 'te', 'tel', 'telle', 'telles', 'tels', 'tes', 'toi', 'ton', 'tous',\n",
    "    'tout', 'toute', 'toutes', 'un', 'une', 'va', 'vers', 'voici', 'voilà', 'vont',\n",
    "    'votre', 'vous', 'vu', 'ça', 's', 'n', 'c', 'a', 'm', 'j', 'y', 't', 'ces', \n",
    "    'dit', 'cet', 'oui', 'non', 'était', 'est', 'être', 'été', 'ai', 'puis', 'avez', \n",
    "    'avait', 'avais', 'eût', 'très', 'cette', 'point', 'fois', 'fit', 'aussi', 'suis' \n",
    "]\n",
    "\n",
    "# Lire le texte complet depuis le fichier\n",
    "texte_complet = open(chemin_du_texte, encoding=\"utf-8\").read()\n",
    "\n",
    "# Découper le texte en mots\n",
    "tous_les_mots = decouper_en_mots(texte_complet)\n",
    "\n",
    "# Filtrer les mots significatifs en enlevant les mots vides\n",
    "mots_significatifs = [mot for mot in tous_les_mots if mot not in mots_vides]\n",
    "\n",
    "# Compter le nombre d'occurrences de chaque mot significatif\n",
    "conteur_mots_significatifs = Counter(mots_significatifs)\n",
    "\n",
    "# Extraire les mots les plus fréquents\n",
    "mots_significatifs_frequents = conteur_mots_significatifs.most_common(nombre_de_mots_voulu)\n",
    "\n",
    "# Afficher les mots les plus fréquents\n",
    "print(\"Les\", nombre_de_mots_voulu, \"mots les plus fréquents sont :\")\n",
    "print(mots_significatifs_frequents)"
   ]
  },
  {
   "cell_type": "code",
   "execution_count": null,
   "id": "435f951f-46b8-4f78-bc96-5b9a235ad4df",
   "metadata": {},
   "outputs": [],
   "source": []
  },
  {
   "cell_type": "markdown",
   "id": "aa30c851-7dc5-4588-8f3d-7c319867fea4",
   "metadata": {},
   "source": [
    "### Conversion de type pour palier cela"
   ]
  },
  {
   "cell_type": "code",
   "execution_count": null,
   "id": "e305b0f1-d964-4dcf-bc9f-796f5f58f8dc",
   "metadata": {},
   "outputs": [],
   "source": []
  },
  {
   "cell_type": "code",
   "execution_count": null,
   "id": "dec4657e-793c-4b19-b99f-c8b3428bd739",
   "metadata": {},
   "outputs": [],
   "source": []
  }
 ],
 "metadata": {
  "kernelspec": {
   "display_name": "Python 3 (ipykernel)",
   "language": "python",
   "name": "python3"
  },
  "language_info": {
   "codemirror_mode": {
    "name": "ipython",
    "version": 3
   },
   "file_extension": ".py",
   "mimetype": "text/x-python",
   "name": "python",
   "nbconvert_exporter": "python",
   "pygments_lexer": "ipython3",
   "version": "3.10.12"
  }
 },
 "nbformat": 4,
 "nbformat_minor": 5
}
