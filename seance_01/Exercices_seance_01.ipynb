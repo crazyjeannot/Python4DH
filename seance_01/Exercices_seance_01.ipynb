{
 "cells": [
  {
   "cell_type": "code",
   "execution_count": null,
   "id": "24e8494a-4daf-47bb-b5bf-df199d8c51f2",
   "metadata": {},
   "outputs": [],
   "source": []
  },
  {
   "cell_type": "markdown",
   "id": "82878ab8-ff9c-4f19-a62e-f6d7373c2fd2",
   "metadata": {},
   "source": [
    "# Exercice de programmation Séance 1: Expressions et chaînes de caractères\n",
    "\n",
    "Pour effectuer cet exercice, téléchargez ce cahier et ouvrez-le sur votre propre ordinateur. Plusieurs tâches sont décrites ci-dessous. Votre travail consiste à modifier le code dans les cellules de manière à ce que la sortie de l'exécution de la cellule corresponde à la sortie attendue indiquée au-dessus de la cellule.\n",
    "\n",
    "## Tâche 1 : Expressions arithmétiques\n",
    "\n",
    "Ajoutez des parenthèses à l'instruction Python ci-dessous de manière à ce qu'elle affiche la valeur 7.0.\n",
    "\n",
    "Sortie attendue : `7.0`"
   ]
  },
  {
   "cell_type": "code",
   "execution_count": null,
   "id": "9f06b304-f7c0-4095-b6e0-43f8d8794fab",
   "metadata": {},
   "outputs": [],
   "source": [
    "10 + 4 / 2"
   ]
  },
  {
   "cell_type": "markdown",
   "id": "6ba6505d-6627-4664-8798-a4e6698c9c65",
   "metadata": {},
   "source": [
    "Même chose en affichant la valeur 7.\n",
    "\n",
    "Sortie attendue : `7`"
   ]
  },
  {
   "cell_type": "code",
   "execution_count": null,
   "id": "d10d3337-f458-4164-a4d3-30301846e0d3",
   "metadata": {},
   "outputs": [],
   "source": [
    "# votre code ici"
   ]
  },
  {
   "cell_type": "markdown",
   "id": "0bdc0d6d-9f35-412b-988d-f72890a28e20",
   "metadata": {},
   "source": [
    "## Tâche 2 : Expressions d'inégalité\n",
    "\n",
    "Changez l'opérateur dans l'instruction ci-dessous de manière à ce qu'elle affiche `True` au lieu de `False`.\n",
    "\n",
    "Sortie attendue : `True`"
   ]
  },
  {
   "cell_type": "code",
   "execution_count": null,
   "id": "40b5012c-cdd8-4950-8bae-4914be55def3",
   "metadata": {},
   "outputs": [],
   "source": [
    "14 > 15"
   ]
  },
  {
   "cell_type": "markdown",
   "id": "f54fb11b-4014-4653-9f67-b1fb7f4ee4e5",
   "metadata": {},
   "source": [
    "## Tâche 3 : Attribution de variables\n",
    "\n",
    "Modifiez l'attribution de variable ci-dessous de manière à ce que la cellule retourne le nombre 32.\n",
    "\n",
    "Sortie attendue : `32`"
   ]
  },
  {
   "cell_type": "code",
   "execution_count": null,
   "id": "70ab7f6b-4b88-4ce1-899a-50e286a8302e",
   "metadata": {},
   "outputs": [],
   "source": [
    "mon_nombre = 17\n",
    "mon_nombre"
   ]
  },
  {
   "cell_type": "markdown",
   "id": "ee866a1c-7152-4b34-b3c2-114761868637",
   "metadata": {},
   "source": [
    "## Tâche 4 : Types\n",
    "\n",
    "Trois variables sont attribuées ci-dessous, chacune ayant un type différent.\n",
    "Remplacez le mot `None` à l'intérieur des parenthèses de type() dans l'instruction d'impression ci-dessous de manière à ce qu'elle affiche `str`.\n",
    "\n",
    "Sortie attendue : `str`"
   ]
  },
  {
   "cell_type": "code",
   "execution_count": null,
   "id": "1a0268ef-4405-44ab-9546-e07d3bafb0ba",
   "metadata": {},
   "outputs": [],
   "source": [
    "x = 14\n",
    "y = 17.4\n",
    "z = \"L'étrange voyage ! Il avait si bien commencé cependant !\"\n",
    "type(None)"
   ]
  },
  {
   "cell_type": "markdown",
   "id": "6cd8e50f-eecb-4afd-80ca-3e9e0c0b5302",
   "metadata": {},
   "source": [
    "## Tâche 5 : Affichage\n",
    "\n",
    "Modifiez l'instruction ci-dessous de manière à afficher la chaîne de caractères \"We aren't friends now.\" (c'est-à-dire, remplacez \"are\" par \"aren't\").\n",
    "\n",
    "Sortie attendue : `L'étrange voyage !`"
   ]
  },
  {
   "cell_type": "code",
   "execution_count": null,
   "id": "fab3107b-ca55-4070-b38c-6aee38863696",
   "metadata": {},
   "outputs": [],
   "source": [
    "print('L'étrange voyage !')"
   ]
  },
  {
   "cell_type": "markdown",
   "id": "9d7fa158-79dd-4fab-bb67-ca03f88b4b3d",
   "metadata": {},
   "source": [
    "## Tâche 6 : Questions sur les chaînes de caractères\n",
    "\n",
    "Dans la cellule ci-dessous, sur une ligne directement après les deux attributions de variables, écrivez une expression qui évalue la somme des longueurs des deux variables de chaînes de caractères définies dans la cellule (`premiere_variable` et `deuxieme_variable`). Utilisez la fonction `len()`. Aide: [Python 'len()'](https://www.w3schools.com/python/ref_func_len.asp)\n",
    "\n",
    "Sortie attendue : `138`"
   ]
  },
  {
   "cell_type": "code",
   "execution_count": null,
   "id": "f587da52-f73c-437b-83ea-cf55d0158de0",
   "metadata": {},
   "outputs": [],
   "source": [
    "premiere_variable = \"Arsène Lupin, le fantaisiste gentleman\"\n",
    "deuxieme_variable = \"Il est peu probable que Lupin se serve d’une automobile comme d’un bélier pour démolir votre château\"\n",
    "# votre code ici"
   ]
  },
  {
   "cell_type": "markdown",
   "id": "28cb773a-b543-480d-9e11-1ce6b415706a",
   "metadata": {},
   "source": [
    "## Tâche 7 : Transformations de chaînes de caractères\n",
    "\n",
    "Modifiez l'expression à l'intérieur des parenthèses de la fonction `print` ci-dessous de manière à afficher le contenu de la variable \"benediction\", mais en supprimant tous les espaces blancs du début et de la fin de la chaîne. Utilisez la méthode `.strip()`. Réassigner le résultat à la variable \"benediction\".\n",
    "\n",
    "Sortie attendue : `On fouilla le château du haut en bas`"
   ]
  },
  {
   "cell_type": "code",
   "execution_count": null,
   "id": "1a7b3ee6-f7e3-4ef1-a16e-3f6ac6357722",
   "metadata": {},
   "outputs": [],
   "source": [
    "benediction = \"     On fouilla le château du haut en bas    \\n\"\n",
    "print(benediction) # votre code ici"
   ]
  },
  {
   "cell_type": "markdown",
   "id": "b222005a-6490-4946-9deb-976d30ae4c1d",
   "metadata": {},
   "source": [
    "## Tâche 8 : Transformations de chaînes de caractères, partie 2\n",
    "En utilisant la variable `benediction` précédemment définie, écrivez une expression qui remplace tout les *a* par des *A*.\n",
    "\n",
    "Sortie attendue : `On fouillA le chAteAu du hAut en bAs`"
   ]
  },
  {
   "cell_type": "code",
   "execution_count": null,
   "id": "7c3e99b8-3631-4200-9a7f-2338b1ce38f0",
   "metadata": {},
   "outputs": [],
   "source": [
    "print(benediction) # votre code ici"
   ]
  },
  {
   "cell_type": "code",
   "execution_count": null,
   "id": "04c9c20b-dbfc-4907-88d0-35dc4aa4ae6a",
   "metadata": {},
   "outputs": [],
   "source": []
  },
  {
   "cell_type": "markdown",
   "id": "c16add5d-74af-4b4b-a4cd-4a8d3aa2bd23",
   "metadata": {},
   "source": [
    "## Tâche 9 : Transformations de chaînes de caractères, partie 3\n",
    "\n",
    "En utilisant la variable `benediction` précédemment définie, écrivez une expression entre parenthèses de la fonction `print` ci-dessous de manière à ce que l'exécution de la cellule affiche le contenu de la chaîne, avec toutes les lettres converties en majuscules. Utilisez la méthode `.upper()`.\n",
    "\n",
    "Sortie attendue : `ON FOUILLA LE CHÂTEAU DU HAUT EN BAS`"
   ]
  },
  {
   "cell_type": "code",
   "execution_count": null,
   "id": "cea1d6d8-57d5-47fa-86cb-6308356848c3",
   "metadata": {},
   "outputs": [],
   "source": [
    "print(benediction) # votre code ici"
   ]
  },
  {
   "cell_type": "markdown",
   "id": "3338ae2d-de61-4917-ac2b-2841eb473378",
   "metadata": {},
   "source": [
    "## Tâche 10 : Indexation de chaînes de caractères\n",
    "\n",
    "Modifiez la valeur attribuée à la variable `indice` ci-dessous de manière à ce que l'expression en bas de la cellule évalue à `'p'`.\n",
    "\n",
    "Sortie attendue : `'p'`"
   ]
  },
  {
   "cell_type": "code",
   "execution_count": null,
   "id": "cbd447d7-fc29-4186-a179-14f64ae18daf",
   "metadata": {},
   "outputs": [],
   "source": [
    "indice = # votre code ici\n",
    "\"pomme\"[indice]"
   ]
  },
  {
   "cell_type": "markdown",
   "id": "99a3c048-046d-4c76-8e54-f674500427b6",
   "metadata": {},
   "source": [
    "## Tâche 11 : Tranches de chaînes de caractères\n",
    "\n",
    "Modifiez les valeurs attribuées aux variables `debut` et `fin` ci-dessous de manière à ce que l'expression en bas de la cellule retourne la chaîne de caractères `'balivernes'`.\n",
    "\n",
    "Sortie attendue : `'balivernes'`"
   ]
  },
  {
   "cell_type": "code",
   "execution_count": null,
   "id": "ef439c05-8e47-4c97-ae41-f3bed7ceae74",
   "metadata": {},
   "outputs": [],
   "source": [
    "debut = 0\n",
    "fin = 10\n",
    "chaine_balivernes = \"Mais voilà, qu’on ne cherche pas de souterrain, de pierres tournant sur un pivot, et autres balivernes de ce calibre.\"\n",
    "chaine_balivernes[debut:fin] # votre code ici"
   ]
  },
  {
   "cell_type": "markdown",
   "id": "5945882a-6ba9-488a-81a2-d60fbc570f19",
   "metadata": {},
   "source": [
    "## Tâche 12 : Conversion de Types\n",
    "\n",
    "Modifiez la déclaration ci-dessous de manière à ce qu'elle affiche le nombre 100. Faites-le en utilisant la fonction int().\n",
    "\n",
    "Sortie attendue : `100`"
   ]
  },
  {
   "cell_type": "code",
   "execution_count": null,
   "id": "19cebe1a-ad71-4648-912d-7f5b6000d517",
   "metadata": {},
   "outputs": [],
   "source": [
    "print(\"19\" + \"81\") # votre code ici"
   ]
  }
 ],
 "metadata": {
  "kernelspec": {
   "display_name": "Python 3 (ipykernel)",
   "language": "python",
   "name": "python3"
  },
  "language_info": {
   "codemirror_mode": {
    "name": "ipython",
    "version": 3
   },
   "file_extension": ".py",
   "mimetype": "text/x-python",
   "name": "python",
   "nbconvert_exporter": "python",
   "pygments_lexer": "ipython3",
   "version": "3.10.12"
  }
 },
 "nbformat": 4,
 "nbformat_minor": 5
}
