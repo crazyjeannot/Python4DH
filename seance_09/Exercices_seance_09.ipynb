{
 "cells": [
  {
   "cell_type": "markdown",
   "metadata": {},
   "source": [
    "\n",
    "# Exercices séance 9\n",
    "\n",
    "## Rappels\n",
    "\n",
    "- Le notebook doit compiler entièrement\n",
    "- Une fonction est accompagnée d'une cellule de test (sauf si elle est appelée dans une autre fonction).\n",
    "- Le notebook résultant n'est pas un brouillon, les cellules superflues doivent être supprimées pour faciliter la lecture\n",
    "\n",
    "\n",
    "### Exercice 1:\n",
    "\n",
    "L’objectif de cet exercice est de convertir un texte en morse et inversement, en parcourant des données structurées. Vous trouverez ci-dessous l’alphabet morse international utilisé dans l’exercice :\n",
    "\n",
    "0. En vous inspirant de l’exemple décrit ici (https://www.synbioz.com/blog/tech/exercice-de-programmation-codingame), encodez en python l’alphabet morse international. Nous laisserons tomber la gestion des accents et de la ponctuation.\n",
    "\n",
    "1. Créer une fonction qui prend en entrée un roman au format txt (au choix un des romans des semaines précédentes) et un nombre N (default=1000) qui retourne en sortie le code morse correspondant au N premiers caractères du roman. Attention aux caractères spéciaux. Exporter le résultat dans un fichier mon_texte_morse.txt\n",
    "\n",
    "2. Créer une fonction qui prend en entrée un code morse (attention aux espaces) et retourne en sortie sa correspondance en français. Appliquer cette fonction au corde morse précédemment codé (en important votre fichier mon_texte_morse.txt.\n",
    "\n",
    "3. BONUS Dans le cas où le texte morse ne contiendrait pas d’espace, le site proposé apporte une solution. Calculer sa complexité\n"
   ]
  },
  {
   "cell_type": "code",
   "execution_count": 4,
   "metadata": {},
   "outputs": [],
   "source": [
    "import re\n",
    "import unidecode"
   ]
  },
  {
   "cell_type": "code",
   "execution_count": 12,
   "metadata": {},
   "outputs": [],
   "source": [
    "to_morse = {\"a\":\".-\", \"b\":\"-...\", \"c\":\"-.-.\", \"d\":\"-..\", \"e\":\".\", \"f\":\"..-.\", \"g\":\"--.\", \"h\":\"....\", \n",
    "         \"i\":\"..\", \"j\":\".---\", \"k\":\"-.-\", \"l\":\".-..\", \"m\":\"--\", \"n\":\"-.\", \"o\":\"---\", \"p\":\".--.\", \n",
    "         \"q\":\"--.-\", \"r\":\".-.\", \"s\":\"...\", \"t\":\"-\", \"u\":\"..-\", \"v\":\"...-\", \"w\":\".--\", \"x\":\"-..-\", \n",
    "         \"y\":\"-.--\", \"z\":\"--..\"}"
   ]
  },
  {
   "cell_type": "code",
   "execution_count": 7,
   "metadata": {},
   "outputs": [],
   "source": [
    "def preprocessing(txt):\n",
    "    text_sans_accent = unidecode.unidecode(txt)\n",
    "    text_minus = text_sans_accent.lower()\n",
    "    text_clean = re.sub(r'[^a-z ]', '', text_minus)\n",
    "    return text_clean"
   ]
  },
  {
   "cell_type": "code",
   "execution_count": 11,
   "metadata": {},
   "outputs": [],
   "source": [
    "def lettre_to_morse(txt, chemin_ecriture, dico_morse, N=1000):\n",
    "    resultat = ''\n",
    "    roman = preprocessing(txt)\n",
    "    for lettre in roman[:N]:\n",
    "        if lettre in dico_morse:\n",
    "            resultat+=dico_morse[lettre]+' '\n",
    "        else:\n",
    "            resultat+=' '\n",
    "\n",
    "    with open(chemin_ecriture, 'w') as file_txt:\n",
    "        file_txt.write(resultat)\n",
    "\n",
    "    return resultat\n"
   ]
  },
  {
   "cell_type": "code",
   "execution_count": 10,
   "metadata": {},
   "outputs": [],
   "source": [
    "chemin_lecture = \"/home/crazyjeannot/Documents/cours/Python4DH/data/txt/1841_Sand-George_Un-hiver-a-Majorque.txt\"\n",
    "N = 1000"
   ]
  },
  {
   "cell_type": "code",
   "execution_count": 14,
   "metadata": {},
   "outputs": [],
   "source": [
    "with open(chemin_lecture, 'r') as file_txt:\n",
    "    fichier_texte = file_txt.read()\n",
    "    res = lettre_to_morse(fichier_texte, \"mon_texte_morse.txt\", to_morse, N)\n",
    "    "
   ]
  },
  {
   "cell_type": "markdown",
   "metadata": {},
   "source": [
    "# 2"
   ]
  },
  {
   "cell_type": "code",
   "execution_count": 22,
   "metadata": {},
   "outputs": [],
   "source": [
    "def reverse_dico(dico):\n",
    "    return {dico[cle]:cle for cle in dico.keys()}"
   ]
  },
  {
   "cell_type": "code",
   "execution_count": 23,
   "metadata": {},
   "outputs": [],
   "source": [
    "reverse_dico_morse = reverse_dico(to_morse)"
   ]
  },
  {
   "cell_type": "code",
   "execution_count": 34,
   "metadata": {},
   "outputs": [],
   "source": [
    "def morse_to_lettre(chemin_lecture_morse, chemin_ecriture, dico_morse):\n",
    "    text_decode = ''\n",
    "    with open(chemin_lecture_morse, 'r') as file_morse:\n",
    "        fichier_morse = file_morse.read()\n",
    "        liste_char = fichier_morse.split(' ')\n",
    "\n",
    "        for char in liste_char:\n",
    "            if char in dico_morse:\n",
    "                text_decode+=dico_morse[char]\n",
    "            else:\n",
    "                text_decode+=' '\n",
    "        with open(chemin_ecriture, 'w') as fichier_decode:\n",
    "            fichier_decode.write(text_decode)\n",
    "\n",
    "    return text_decode    "
   ]
  },
  {
   "cell_type": "code",
   "execution_count": 35,
   "metadata": {},
   "outputs": [],
   "source": [
    "chemin_morse = 'mon_texte_morse.txt'\n",
    "chemin_morse_decode = 'mon_texte_decode.txt'"
   ]
  },
  {
   "cell_type": "code",
   "execution_count": 36,
   "metadata": {},
   "outputs": [],
   "source": [
    "decodage = morse_to_lettre(chemin_morse, chemin_morse_decode, reverse_dico_morse)"
   ]
  },
  {
   "cell_type": "code",
   "execution_count": 37,
   "metadata": {},
   "outputs": [
    {
     "data": {
      "text/plain": [
       "'sedentaire par devoir tu crois mon cher francois quemporte par le fier et capricieux dada de lindependance je nai pas connu de plus ardent plaisir en ce monde que celui de traverser mers et montagnes lacs et vallees helas  mes plus beaux mes plus doux voyages je les ai faits au coin de mon feu les pieds dans la cendre chaude et les coudes appuyes sur les bras rapes du fauteuil de ma grandmere je ne doute pas que tu nen fasses daussi agreables et de plus poetiques mille fois  cest pourquoi je te conseille de ne pas trop regretter ton temps ni ta peine ni tes sueurs sous les tropiques ni tes pieds glaces sur les plaines neigeuses du pole ni les affreuses tempetes essuyees sur mer ni les attaques de brigands ni aucun des dangers ni aucune des fatigues que tous les soirs tu affrontes en imagination sans quitter tes pantoufles et sans autre dommage que quelques brulures de cigare a la doublure de ton pourpointpour te reconcilier avec la privation despace reel et de mouvement physique je ten '"
      ]
     },
     "execution_count": 37,
     "metadata": {},
     "output_type": "execute_result"
    }
   ],
   "source": [
    "decodage"
   ]
  },
  {
   "cell_type": "code",
   "execution_count": null,
   "metadata": {},
   "outputs": [],
   "source": []
  },
  {
   "cell_type": "markdown",
   "metadata": {},
   "source": [
    "\n",
    "### Exercice 2:\n",
    "\n",
    "Construire un module Python ```chiffrement.py``` à partir des fonctions de l'exercice 1\n",
    "\n",
    "Rajouter des arguments avec la librairie parser: \"chemin_fichier\" qui prend le chemin du fichier sous la forme d'une string, N pour les N caractères inclus et \"chiffrement\", qui prend deux valeurs possibles \"encodage\" ou \"decodage\".\n",
    "\n",
    "Executer le programme sur votre machine afin de vérifier qu'il compile et fonctionne correctement\n",
    "\n",
    "Envoyer le notebook et le module dans un fichier zip\n"
   ]
  },
  {
   "cell_type": "code",
   "execution_count": null,
   "metadata": {},
   "outputs": [],
   "source": []
  }
 ],
 "metadata": {
  "kernelspec": {
   "display_name": "Python 3 (ipykernel)",
   "language": "python",
   "name": "python3"
  },
  "language_info": {
   "codemirror_mode": {
    "name": "ipython",
    "version": 3
   },
   "file_extension": ".py",
   "mimetype": "text/x-python",
   "name": "python",
   "nbconvert_exporter": "python",
   "pygments_lexer": "ipython3",
   "version": "3.10.12"
  }
 },
 "nbformat": 4,
 "nbformat_minor": 4
}
