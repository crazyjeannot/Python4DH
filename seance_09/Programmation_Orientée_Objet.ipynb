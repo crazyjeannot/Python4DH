{
 "cells": [
  {
   "cell_type": "markdown",
   "id": "720d600a-506c-4a75-ae8c-03c55aa435ce",
   "metadata": {},
   "source": [
    "En Python, les classes et les fonctions sont deux concepts fondamentaux, mais ils sont utilisés pour des objectifs différents dans la programmation.\n",
    "\n",
    "**Classe :**\n",
    "\n",
    "1. **Définition :** Une classe est une structure qui permet de regrouper des données et des fonctionnalités connexes. C'est un modèle ou un plan de construction pour créer des objets.\n",
    "\n",
    "2. **Objets :** Une classe est utilisée pour créer des objets. Les objets sont des instances spécifiques d'une classe, et chaque objet peut avoir ses propres attributs et méthodes.\n",
    "\n",
    "3. **Attributs :** Une classe définit des attributs, qui sont des variables associées à la classe ou à ses instances (objets).\n",
    "\n",
    "4. **Méthodes :** Une classe définit des méthodes, qui sont des fonctions associées à la classe ou à ses instances. Ces méthodes peuvent agir sur les données de la classe.\n",
    "\n",
    "5. **Exemple :**\n",
    "   ```python\n",
    "   class Voiture:\n",
    "       def __init__(self, marque, modele):\n",
    "           self.marque = marque\n",
    "           self.modele = modele\n",
    "\n",
    "       def afficher_info(self):\n",
    "           print(f\"{self.marque} {self.modele}\")\n",
    "   ```\n",
    "\n",
    "**Fonction :**\n",
    "\n",
    "1. **Définition :** Une fonction est un bloc réutilisable de code qui effectue une tâche spécifique. Elle prend généralement des entrées (arguments), effectue un ensemble d'instructions, et renvoie une sortie.\n",
    "\n",
    "2. **Réutilisabilité :** Les fonctions sont conçues pour être réutilisées. Vous pouvez les appeler plusieurs fois dans votre programme.\n",
    "\n",
    "3. **Arguments :** Les fonctions peuvent prendre des arguments en entrée et peuvent retourner une valeur en sortie.\n",
    "\n",
    "4. **Exemple :**\n",
    "   ```python\n",
    "   def ajouter(a, b):\n",
    "       return a + b\n",
    "   ```\n",
    "\n",
    "**Différences clés :**\n",
    "\n",
    "- Une classe est utilisée pour regrouper des données et des méthodes connexes, tandis qu'une fonction est utilisée pour encapsuler un bloc de code réutilisable.\n",
    "- Une classe est utilisée pour créer des objets avec des attributs et des méthodes, tandis qu'une fonction est utilisée pour exécuter un ensemble d'instructions.\n",
    "- Les classes sont souvent utilisées dans le cadre de la programmation orientée objet, tandis que les fonctions peuvent être utilisées dans différents paradigmes de programmation.\n",
    "\n",
    "En résumé, les classes sont plus orientées vers la modélisation d'objets et la gestion de l'état, tandis que les fonctions sont plus orientées vers l'encapsulation d'une logique de traitement."
   ]
  },
  {
   "cell_type": "code",
   "execution_count": null,
   "id": "6b77010e-40f4-4edc-bc31-63603d7c93b7",
   "metadata": {},
   "outputs": [],
   "source": []
  }
 ],
 "metadata": {
  "kernelspec": {
   "display_name": "Python 3 (ipykernel)",
   "language": "python",
   "name": "python3"
  },
  "language_info": {
   "codemirror_mode": {
    "name": "ipython",
    "version": 3
   },
   "file_extension": ".py",
   "mimetype": "text/x-python",
   "name": "python",
   "nbconvert_exporter": "python",
   "pygments_lexer": "ipython3",
   "version": "3.10.12"
  }
 },
 "nbformat": 4,
 "nbformat_minor": 5
}
