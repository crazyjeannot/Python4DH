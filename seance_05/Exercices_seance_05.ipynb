{
 "cells": [
  {
   "cell_type": "markdown",
   "id": "6118f794-eead-4943-bed2-a7058033f0f1",
   "metadata": {},
   "source": [
    "# Exercices séance 05\n",
    "\n",
    "**Reminder**\n",
    "* Chacune de vos fonctions doit être testée. \n",
    "\n",
    "* Chaque cellule doit compiler. \n",
    "\n",
    "* Si le résultats n'est pas celui voulu, expliquer ce qui semble ne pas aller dans votre fonction en commentaires. \n",
    "\n",
    "\n",
    "### 1. Ecrire une fonction qui prend une liste de mots et retourne le plus long. Gérer le cas où la liste ne contient pas que des strings.\n"
   ]
  },
  {
   "cell_type": "code",
   "execution_count": null,
   "id": "b5513004-7efd-4aa5-a0e1-9cf12a51a5b0",
   "metadata": {},
   "outputs": [],
   "source": []
  },
  {
   "cell_type": "markdown",
   "id": "42d18c3d-c7d7-41f2-99ed-4f6295ddc80f",
   "metadata": {},
   "source": [
    "### 2. Ecrire une fonction qui ajoute une string au milieu d'une autre string.\n"
   ]
  },
  {
   "cell_type": "code",
   "execution_count": null,
   "id": "5b4afacf-6406-4f20-a874-166809e18b07",
   "metadata": {},
   "outputs": [],
   "source": []
  },
  {
   "cell_type": "markdown",
   "id": "aa29d27b-4a87-4d89-b959-8eded4180b83",
   "metadata": {},
   "source": [
    "### 3. Ecrire une fonction qui transforme en majuscule la première et la dernière lettre de toutes les string d'une liste.\n"
   ]
  },
  {
   "cell_type": "code",
   "execution_count": null,
   "id": "e3152de8-cf86-4c2c-bda3-d52e92c8a307",
   "metadata": {},
   "outputs": [],
   "source": []
  },
  {
   "cell_type": "markdown",
   "id": "99ffe52b-76a1-47f3-8e47-87784007083f",
   "metadata": {},
   "source": [
    "### 4. Ecrire une fonction qui trouve les 3 plus hautes valeurs d'un dictionnaire.\n"
   ]
  },
  {
   "cell_type": "code",
   "execution_count": null,
   "id": "ad5dfd68-6d5b-4d58-9b19-afa44c9f6a58",
   "metadata": {},
   "outputs": [],
   "source": []
  },
  {
   "cell_type": "markdown",
   "id": "46744ef4-48b7-4a04-a199-d2b1a57daf12",
   "metadata": {},
   "source": [
    "### 5. Ecrire une fonction qui ajoute un élément à un tuple. Idem qui enlève.\n"
   ]
  },
  {
   "cell_type": "code",
   "execution_count": null,
   "id": "27bc7d85-67ff-4b4f-96c3-9a00a7c52c54",
   "metadata": {},
   "outputs": [],
   "source": []
  },
  {
   "cell_type": "markdown",
   "id": "8e7c834d-7b48-4ab4-a0eb-a432f00042e7",
   "metadata": {},
   "source": [
    "### 6. Ecrire une fonction qui remplace la dernière valeur des tuples d'une liste.\n",
    "\tExemple :\n",
    "\t\tentree: [(10, 20, 40), (40, 50, 60), (70, 80, 90)]\n",
    "\t\tsortie: [(10, 20, 100), (40, 50, 100), (70, 80, 100)]\n"
   ]
  },
  {
   "cell_type": "code",
   "execution_count": null,
   "id": "25d747d9-760c-468f-917c-929ae97833b8",
   "metadata": {},
   "outputs": [],
   "source": []
  },
  {
   "cell_type": "markdown",
   "id": "b885c8d6-604f-4a79-a3e7-7326438210e1",
   "metadata": {},
   "source": [
    "### 7. Ecrire une fonction qui lit un csv dont les délimiteurs sont des tabulations (import csv ou pandas).\n"
   ]
  },
  {
   "cell_type": "code",
   "execution_count": null,
   "id": "1912820e-d74a-4cdf-afb5-1d90452a7c25",
   "metadata": {},
   "outputs": [],
   "source": []
  },
  {
   "cell_type": "markdown",
   "id": "3fa474ea-090e-4a1f-8dc5-b41e858bf71a",
   "metadata": {},
   "source": [
    "### 8. Ecrire une fonction qui écrit des dictionnaires dans un fichier (json par exemple)\n"
   ]
  },
  {
   "cell_type": "code",
   "execution_count": null,
   "id": "52d4939e-0b4d-464f-b71e-9a5a52fefa4a",
   "metadata": {},
   "outputs": [],
   "source": []
  },
  {
   "cell_type": "markdown",
   "id": "a09c16a1-844d-447c-8f3f-bf4f58ebae83",
   "metadata": {},
   "source": [
    "### 9. Ecrire une fonction qui convertit un array en array de float\n"
   ]
  },
  {
   "cell_type": "code",
   "execution_count": null,
   "id": "8c35a63d-9dfe-4c27-8c80-4089f8e2d31a",
   "metadata": {},
   "outputs": [],
   "source": []
  },
  {
   "cell_type": "markdown",
   "id": "e99d9c40-8b8b-4d52-b5b1-01ce865c8e6d",
   "metadata": {},
   "source": [
    "### 10. Ecrire une fonction qui enregistre un array dans un fichier texte.\n"
   ]
  },
  {
   "cell_type": "code",
   "execution_count": null,
   "id": "e5caaad4-6ff7-4ba1-87d5-57258dbdd98d",
   "metadata": {},
   "outputs": [],
   "source": []
  },
  {
   "cell_type": "markdown",
   "id": "2e014338-fab1-4c67-aad7-5101d649ad7e",
   "metadata": {},
   "source": [
    "### 11. Ecrire une fonction qui réalise l'addition matricielle de deux arrays. La multiplication ça se tente ?"
   ]
  },
  {
   "cell_type": "code",
   "execution_count": null,
   "id": "c3d787ea-9c6b-46a5-a6ec-72ae1086a664",
   "metadata": {},
   "outputs": [],
   "source": []
  },
  {
   "cell_type": "code",
   "execution_count": null,
   "id": "4cfa80e0-05f3-41b7-acdf-2e56fa35d94b",
   "metadata": {},
   "outputs": [],
   "source": []
  }
 ],
 "metadata": {
  "kernelspec": {
   "display_name": "Python 3 (ipykernel)",
   "language": "python",
   "name": "python3"
  },
  "language_info": {
   "codemirror_mode": {
    "name": "ipython",
    "version": 3
   },
   "file_extension": ".py",
   "mimetype": "text/x-python",
   "name": "python",
   "nbconvert_exporter": "python",
   "pygments_lexer": "ipython3",
   "version": "3.10.12"
  }
 },
 "nbformat": 4,
 "nbformat_minor": 5
}
