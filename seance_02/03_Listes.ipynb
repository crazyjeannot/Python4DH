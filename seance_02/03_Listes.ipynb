{
 "cells": [
  {
   "cell_type": "markdown",
   "id": "afce4f35-a5d9-4337-b75b-aece3d7fe397",
   "metadata": {},
   "source": [
    "# Listes"
   ]
  },
  {
   "cell_type": "markdown",
   "id": "e8e99609-ec23-4278-81c5-a4eca85402e1",
   "metadata": {},
   "source": [
    "Les listes en Python sont un type de collection qui vous permet de stocker plusieurs éléments dans un ordre séquentiel. Vous pouvez ajouter, supprimer, ou accéder aux éléments d'une liste en utilisant des index. Les listes sont très flexibles et polyvalentes, ce qui les rend utiles pour de nombreuses tâches différentes en programmation."
   ]
  },
  {
   "cell_type": "code",
   "execution_count": null,
   "id": "f35adf2e-d3b7-493f-a717-25e5ef57a976",
   "metadata": {},
   "outputs": [],
   "source": [
    "liste_1 = list()"
   ]
  },
  {
   "cell_type": "code",
   "execution_count": null,
   "id": "708465c8-30b1-4e54-b080-bc280b712d02",
   "metadata": {},
   "outputs": [],
   "source": [
    "liste_2 = []"
   ]
  },
  {
   "cell_type": "code",
   "execution_count": null,
   "id": "fdaa7709-272d-4844-800a-58b8a4872f96",
   "metadata": {},
   "outputs": [],
   "source": []
  },
  {
   "cell_type": "code",
   "execution_count": null,
   "id": "18f35e6b-bcff-4d42-a2fe-e77f2a7453c6",
   "metadata": {},
   "outputs": [],
   "source": []
  },
  {
   "cell_type": "code",
   "execution_count": 4,
   "id": "2a00a8f1-94c0-41d8-a059-889cc369a7be",
   "metadata": {},
   "outputs": [],
   "source": [
    "personnages = [\n",
    "    \"Emma Bovary\",\n",
    "    \"Arsène Lupin\",\n",
    "    \"Jean Valjean\",\n",
    "    \"Cyrano de Bergerac\",\n",
    "    \"Le Petit Prince\",\n",
    "    \"Madame Bovary\",\n",
    "]"
   ]
  },
  {
   "cell_type": "code",
   "execution_count": null,
   "id": "c55309b8-d8fe-4128-95d0-70bf0dd11866",
   "metadata": {},
   "outputs": [],
   "source": [
    "type(personnages)"
   ]
  },
  {
   "cell_type": "markdown",
   "id": "bf72a0c7-5180-482d-995b-9426b7778173",
   "metadata": {},
   "source": [
    "## Index"
   ]
  },
  {
   "cell_type": "code",
   "execution_count": null,
   "id": "137a9df7-844d-4736-97d6-39e4eeb4f6f1",
   "metadata": {},
   "outputs": [],
   "source": [
    "personnages[0]"
   ]
  },
  {
   "cell_type": "code",
   "execution_count": null,
   "id": "28f1fd6e-321f-42a8-b1f7-795708b418dd",
   "metadata": {},
   "outputs": [],
   "source": []
  },
  {
   "cell_type": "markdown",
   "id": "1df2f5b6-39ee-4700-8dca-05f64e83aa97",
   "metadata": {},
   "source": [
    "## Slice\n",
    "\n",
    "En utilisant des index spécifiques entre ces deux deux-points, vous pouvez découper la liste à des points de départ et d'arrêt spécifiques, et vous pouvez également \"sauter\" par différentes quantités, c'est-à-dire que vous pouvez avancer d'un certain nombre dans la liste et prendre seulement chaque n-ième élément de la liste (par exemple, chaque 3ème élément).\n",
    "\n",
    "liste[debut:fin:etape]"
   ]
  },
  {
   "cell_type": "code",
   "execution_count": null,
   "id": "66a51aa9-41d8-4cde-a643-36e1d1fc9280",
   "metadata": {},
   "outputs": [],
   "source": [
    "#personnages[2:rien:rien]"
   ]
  },
  {
   "cell_type": "code",
   "execution_count": null,
   "id": "9d57f033-478d-42d8-87ef-556ecac80f4d",
   "metadata": {},
   "outputs": [],
   "source": [
    "personnages[2:] "
   ]
  },
  {
   "cell_type": "code",
   "execution_count": null,
   "id": "6f619a14-2cce-4169-ba73-c0431e275719",
   "metadata": {},
   "outputs": [],
   "source": [
    "personnages[:2]"
   ]
  },
  {
   "cell_type": "code",
   "execution_count": null,
   "id": "ad55032e-abd3-43d2-83ed-4f108e29051e",
   "metadata": {},
   "outputs": [],
   "source": [
    "personnages[::2]"
   ]
  },
  {
   "cell_type": "markdown",
   "id": "768c3820-57e6-4467-958a-44e0e5c5f6a8",
   "metadata": {},
   "source": [
    "#### Reverse"
   ]
  },
  {
   "cell_type": "code",
   "execution_count": null,
   "id": "57a07b15-89e1-4e5a-963d-0e1c50491cb9",
   "metadata": {},
   "outputs": [],
   "source": [
    "personnages[-2:]"
   ]
  },
  {
   "cell_type": "markdown",
   "id": "7132449b-967b-4f98-8d85-7116494113bc",
   "metadata": {},
   "source": [
    "## Méthode de liste"
   ]
  },
  {
   "cell_type": "markdown",
   "id": "2180b6ea-38a7-489a-96f0-666294706280",
   "metadata": {},
   "source": [
    "Les listes ont beaucoup de méthode de liste spécifiques, comme par exemple pour ajouter des éléments dans la liste\n",
    "\n",
    "| **Méthode de liste** | **Explication**                                                                                   |\n",
    "|-------------|---------------------------------------------------------------------------------------------------|\n",
    "| `liste.append(autre_element)`          | ajoute un nouvel élément à la fin de la liste                                                                                |\n",
    "| `liste.extend(autre_liste)`        | ajoute les éléments de `autre_liste` à la liste actuelle                                             |\n",
    "| `liste.remove(element)`        | supprime la première occurrence de l'élément                                                       |\n",
    "| `liste.sort(reverse=False)`       | trie la liste dans l'ordre spécifié, par défaut, dans l'ordre croissant          |\n",
    "| `liste.reverse()`       | inverse l'ordre de la liste                                                                          |"
   ]
  },
  {
   "cell_type": "code",
   "execution_count": null,
   "id": "3505b09b-4171-454a-aa0b-addaa02eb4c4",
   "metadata": {},
   "outputs": [],
   "source": [
    "personnages.append()"
   ]
  },
  {
   "cell_type": "code",
   "execution_count": null,
   "id": "86c178f1-3880-49bf-b20a-9216d145b7bb",
   "metadata": {},
   "outputs": [],
   "source": []
  },
  {
   "cell_type": "code",
   "execution_count": null,
   "id": "06760718-c18b-455b-84ff-d2a56ff04f29",
   "metadata": {},
   "outputs": [],
   "source": [
    "..."
   ]
  },
  {
   "cell_type": "code",
   "execution_count": null,
   "id": "924505b2-86ab-4bb5-85c7-674737d1b5ef",
   "metadata": {},
   "outputs": [],
   "source": []
  },
  {
   "cell_type": "code",
   "execution_count": null,
   "id": "9c1c80f5-0719-462f-b0ab-47980f3c0eac",
   "metadata": {},
   "outputs": [],
   "source": [
    "ages = ['22', '21', '23', '47', '45', '28', '23', '50', '26', '28', '30']"
   ]
  },
  {
   "cell_type": "code",
   "execution_count": null,
   "id": "4e8cd2fa-7c60-4014-99ec-20c10e0e0375",
   "metadata": {},
   "outputs": [],
   "source": [
    "personnages.extend(ages)"
   ]
  },
  {
   "cell_type": "code",
   "execution_count": null,
   "id": "4d9913af-bb33-413f-aa65-8bf744b4228d",
   "metadata": {},
   "outputs": [],
   "source": [
    "sort !"
   ]
  },
  {
   "cell_type": "code",
   "execution_count": null,
   "id": "88f33ff9-68fa-447c-af1e-44287b1c6ed1",
   "metadata": {},
   "outputs": [],
   "source": []
  }
 ],
 "metadata": {
  "kernelspec": {
   "display_name": "Python 3 (ipykernel)",
   "language": "python",
   "name": "python3"
  },
  "language_info": {
   "codemirror_mode": {
    "name": "ipython",
    "version": 3
   },
   "file_extension": ".py",
   "mimetype": "text/x-python",
   "name": "python",
   "nbconvert_exporter": "python",
   "pygments_lexer": "ipython3",
   "version": "3.10.12"
  }
 },
 "nbformat": 4,
 "nbformat_minor": 5
}
