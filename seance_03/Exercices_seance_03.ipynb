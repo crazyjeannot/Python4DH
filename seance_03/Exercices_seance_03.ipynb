{
 "cells": [
  {
   "cell_type": "markdown",
   "id": "f9ec1450-cf80-4cfa-8d3e-e46593552719",
   "metadata": {},
   "source": [
    "# Exercices Séance 3.\n",
    "\n",
    "Vous ne pouvez pas utiliser la fonction Counter de la librairie collections\n",
    "\n",
    "### Version courte:\n",
    "\n",
    "Créer une fonction qui lit un fichier txt, compte les mots du fichier, en récupère les listes des mots les plus et les moins fréquents, retourne ces listes et sauvegarde le résultat dans des nouveaux fichiers txt.\n",
    "\n",
    "### Version détaillée:\n",
    "\n",
    "**1/** Créer une fonction `Compte_mots` qui prend en paramètre une liste de mot et retourne les fréquences d'apparition dans un dictionnaire des mots.\n",
    "\n",
    "**2/** Créer une fonction `Sauvegarde` qui prend en paramètre deux listes, écrit dans deux fichiers distincts, `mots_peu_frequents.txt` et `mots_très_frequents.txt` et ne retourne rien.\n",
    "\n",
    "**3/** Créer une fonction `Main` qui prend en paramètre un chemin de fichier (au choix dans ../data/txt/roman_choisi.txt), deux nombres N, et M (valeur par défaut=10), créé une liste de tous les mots du fichier txt, appelle la fonction `Compte_mots` avec cette liste créée en argument, puis récupère le dictionnaire de sortie et crée deux listes, une première avec les N mots les plus fréquents, une seconde avec les M les moins fréquents. Enfin elle appelle la fonction `Sauvegarde` et retourne les deux listes\n",
    "\n"
   ]
  },
  {
   "cell_type": "code",
   "execution_count": null,
   "id": "272e4de5-683c-4064-ab91-7189cedfd293",
   "metadata": {},
   "outputs": [],
   "source": []
  }
 ],
 "metadata": {
  "kernelspec": {
   "display_name": "Python 3 (ipykernel)",
   "language": "python",
   "name": "python3"
  },
  "language_info": {
   "codemirror_mode": {
    "name": "ipython",
    "version": 3
   },
   "file_extension": ".py",
   "mimetype": "text/x-python",
   "name": "python",
   "nbconvert_exporter": "python",
   "pygments_lexer": "ipython3",
   "version": "3.10.12"
  }
 },
 "nbformat": 4,
 "nbformat_minor": 5
}
