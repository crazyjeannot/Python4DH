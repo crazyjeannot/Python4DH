{
 "cells": [
  {
   "cell_type": "markdown",
   "id": "1752f493-0963-47d8-b566-55da9b218705",
   "metadata": {},
   "source": [
    "# Exercices Seance 06\n",
    "\n",
    "## 1/ XML to CSV\n",
    "\n",
    "Écrire une fonction qui lit les 5 fichiers XML de Balzac, créé et sauvegarde un dataframe avec 8 colonnes : titre, auteur, gender, genre, canon, date_publication, date_naissance, date_mort\n"
   ]
  },
  {
   "cell_type": "code",
   "execution_count": null,
   "id": "4a1969fc-c426-4fa4-8b10-9b02d61e6375",
   "metadata": {},
   "outputs": [],
   "source": []
  },
  {
   "cell_type": "markdown",
   "id": "3692c346-a70b-4f09-a7ba-6a4e4712597b",
   "metadata": {},
   "source": [
    "## 2/ XML to txt \n",
    "\n",
    "Écrire une fonction qui convertie les 5 fichiers XML en fichiers txt."
   ]
  },
  {
   "cell_type": "code",
   "execution_count": null,
   "id": "418f8ce8-5706-4b79-815e-53f92d1bd6c5",
   "metadata": {},
   "outputs": [],
   "source": []
  },
  {
   "cell_type": "markdown",
   "id": "7cc56dcd-c0c3-4acc-8e34-51e0a79ad9f7",
   "metadata": {},
   "source": [
    "## 3/ Exploiter des JSON\n",
    "\n",
    "À partir des .book (json customisés) envoyés avec ce notebook, écrire une fonction qui ouvre les documents, une autre qui récupère la liste des verbes ('agent', 'patient') et des adjectifs ('mod') associés à ces personnages (les 10 premiers), une autre qui calcule leur fréquence d'apparition relative au nombre total de verbes / adjectifs et retourne le résultat sour la forme d'un dataframe (colonnes = mots, ligne = txt_j_personnage_i, valeurs = fréquence relative).\n",
    "\n",
    "Enfin définir une fonction main qui appelle ces différentes fonctions, fusionne les dataframes au fur et à mesure puis retourne le résultat sous la forme d'un dataframe (colonnes = mots, ligne = txt_j_personnage_i, valeurs = fréquence relative). \n",
    "\n",
    "Sauver ce dataframe final. Me l'envoyer avec votre notebook. \n",
    "\n",
    "Vous pouvez utiliser la fonction get_characterization vue dans le cours précédent.\n",
    "\n",
    "Vous pouvez éggalement utiliser les fonctions déjà définies dans les différents exercices corrigés des semaines précédentes"
   ]
  },
  {
   "cell_type": "code",
   "execution_count": null,
   "id": "60ea467d-9868-4409-88a3-15f36b4107c2",
   "metadata": {},
   "outputs": [],
   "source": []
  }
 ],
 "metadata": {
  "kernelspec": {
   "display_name": "Python 3 (ipykernel)",
   "language": "python",
   "name": "python3"
  },
  "language_info": {
   "codemirror_mode": {
    "name": "ipython",
    "version": 3
   },
   "file_extension": ".py",
   "mimetype": "text/x-python",
   "name": "python",
   "nbconvert_exporter": "python",
   "pygments_lexer": "ipython3",
   "version": "3.10.12"
  }
 },
 "nbformat": 4,
 "nbformat_minor": 5
}
