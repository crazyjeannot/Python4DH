{
 "cells": [
  {
   "cell_type": "markdown",
   "id": "6471a235-ec3f-475e-88d8-d8a105bed553",
   "metadata": {},
   "source": [
    "# Analyse de Données structurées\n",
    "\n",
    "\n",
    "On a déjà vu comment analyser certains type de données, comme le plein texte ou les CSV/TSV.\n",
    "\n",
    "Il existe de nombreux autres structures de données, comme le XML, le JSON ou le PDF, que nous allons voir maintenant !\n",
    "\n",
    "### XML\n",
    "\n",
    "[librairie lxml](https://lxml.de/)"
   ]
  },
  {
   "cell_type": "code",
   "execution_count": 1,
   "id": "e9133cfa-e04d-4af2-be06-3dacf2f08d11",
   "metadata": {},
   "outputs": [],
   "source": [
    "import lxml"
   ]
  },
  {
   "cell_type": "markdown",
   "id": "617f68ba-5763-442e-b5ce-a15afff4b6eb",
   "metadata": {},
   "source": [
    "### Introduction\n",
    "La bibliothèque lxml en Python pour analyser et extraire des informations à partir d'un fichier XML. Plus précisément, nous travaillerons avec un fichier XML TEI (Text Encoding Initiative) contenant des informations sur un roman et son auteur.\n",
    "\n",
    "### Installation de la bibliothèque lxml\n",
    "Avant de commencer, assurez-vous d'avoir la bibliothèque lxml installée. Vous pouvez l'installer avec la commande suivante :"
   ]
  },
  {
   "cell_type": "code",
   "execution_count": null,
   "id": "3529807f-5eda-4627-bfbf-7a4bbac39ac4",
   "metadata": {},
   "outputs": [],
   "source": [
    "!pip install lxml"
   ]
  },
  {
   "cell_type": "markdown",
   "id": "74206087-4a9a-46da-a8a1-f30517da80f5",
   "metadata": {},
   "source": [
    "### Importation de `etree` de lxml."
   ]
  },
  {
   "cell_type": "code",
   "execution_count": null,
   "id": "819118a2-0158-420e-bd56-797033080974",
   "metadata": {},
   "outputs": [],
   "source": [
    "from lxml import etree"
   ]
  },
  {
   "cell_type": "markdown",
   "id": "df7cef5e-5406-4922-8f21-47e8a677ed6c",
   "metadata": {},
   "source": [
    "Le module `etree` offre une interface pratique et flexible pour travailler avec XML. Les concepts clés comprennent :\n",
    "- `etree.parse` : Charge un fichier XML dans un ElementTree.\n",
    "- `element.xpath` : Effectue des requêtes XPath sur un élément.\n",
    "- `element.text` : Récupère le contenu textuel d'un élément."
   ]
  },
  {
   "cell_type": "code",
   "execution_count": null,
   "id": "3f2fb2b4-94ea-45fe-9308-15a123f74ea0",
   "metadata": {},
   "outputs": [],
   "source": [
    "chemin_fichier_xml = '/home/crazyjeannot/Documents/cours/Python4DH/data/xml/1843_Balzac-Honore-de_Le-Pere-Goriot.xml'\n",
    "arbre = etree.parse(chemin_fichier_xml)"
   ]
  },
  {
   "cell_type": "code",
   "execution_count": null,
   "id": "442e9d72-a1d2-4659-806d-f7cfac3d2c90",
   "metadata": {},
   "outputs": [],
   "source": [
    "arbre.find(\".//profileDesc\")"
   ]
  },
  {
   "cell_type": "code",
   "execution_count": null,
   "id": "671413c2-7e97-4aa7-aab8-044057ebf5c9",
   "metadata": {},
   "outputs": [],
   "source": [
    "arbre.find(\".//profileDesc\").get(\"tag\")"
   ]
  },
  {
   "cell_type": "code",
   "execution_count": null,
   "id": "0f203f6d-dd11-4eff-b291-679b0812aa72",
   "metadata": {},
   "outputs": [],
   "source": [
    "arbre.find(\".//term\").text"
   ]
  },
  {
   "cell_type": "code",
   "execution_count": null,
   "id": "e87ea2e3-b0f8-4345-b037-231eb7d9e541",
   "metadata": {},
   "outputs": [],
   "source": []
  },
  {
   "cell_type": "markdown",
   "id": "fae86ef2-e62d-432d-a04f-80e5bbd1b51d",
   "metadata": {},
   "source": [
    "### Exercices !\n",
    "\n",
    "1/ Écrire une fonction qui lit tous les fichiers XML, créé et sauvegarde un dataframe avec 8 colonnes : titre, auteur, gender, genre, canon, date, date_naissance, date_mort\n",
    "\n",
    "2/ Écrire une fonction qui convertie les xml en fichiers txt."
   ]
  },
  {
   "cell_type": "code",
   "execution_count": null,
   "id": "ebb514dc-2923-4f05-822c-a1b8b56239ce",
   "metadata": {},
   "outputs": [],
   "source": []
  },
  {
   "cell_type": "code",
   "execution_count": null,
   "id": "f8c4904a-1c7a-4a94-8f43-a5a9eeeb1e03",
   "metadata": {},
   "outputs": [],
   "source": []
  },
  {
   "cell_type": "markdown",
   "id": "126c645b-77f5-48d4-b05f-807807083af3",
   "metadata": {},
   "source": [
    "### JSON\n",
    "\n",
    "[json librairie](https://docs.python.org/3/library/json.html)"
   ]
  },
  {
   "cell_type": "code",
   "execution_count": 5,
   "id": "99d70266-5a07-4849-bc19-6d67f1927a55",
   "metadata": {},
   "outputs": [],
   "source": [
    "import json"
   ]
  },
  {
   "cell_type": "code",
   "execution_count": 23,
   "id": "8bf73113-0f00-4e00-adab-65126a27e816",
   "metadata": {},
   "outputs": [],
   "source": [
    "path_book = \"/home/crazyjeannot/Documents/cours/Python4DH/data/json/1843_Balzac-Honore-de_Eugenie-Grandet.book\""
   ]
  },
  {
   "cell_type": "code",
   "execution_count": 24,
   "id": "2ea07412-c883-4da1-bcd7-44ed251c9135",
   "metadata": {},
   "outputs": [],
   "source": [
    "with open(path_book, \"r\") as booknlp_book:\n",
    "    book_data = json.load(booknlp_book)"
   ]
  },
  {
   "cell_type": "code",
   "execution_count": null,
   "id": "9afa70e0-c713-4a99-b6dd-d70b846cf50b",
   "metadata": {},
   "outputs": [],
   "source": [
    "book_data"
   ]
  },
  {
   "cell_type": "code",
   "execution_count": null,
   "id": "55929482-080b-4a87-ba00-9c05bb1e92a0",
   "metadata": {},
   "outputs": [],
   "source": []
  },
  {
   "cell_type": "code",
   "execution_count": null,
   "id": "97970caa-f55e-4205-8791-15d6607d6de6",
   "metadata": {},
   "outputs": [],
   "source": [
    "characterization = get_characterization(book_data)"
   ]
  },
  {
   "cell_type": "code",
   "execution_count": null,
   "id": "9982884f-1583-4c91-8acd-d31f110d79e2",
   "metadata": {},
   "outputs": [],
   "source": [
    "def get_characterization(booknlp_data):\n",
    "    list_verb_suj, list_verb_obj, list_adj = [], [], []\n",
    "    for i in range(len(booknlp_data)):\n",
    "        list_verb_suj.extend([item['w'] for item in booknlp_data[\"characters\"][i]['agent']])\n",
    "        list_verb_obj.extend([item['w'] for item in booknlp_data[\"characters\"][i]['patient']])\n",
    "        list_adj.extend([item['w'] for item in booknlp_data[\"characters\"][i]['mod']])\n",
    "    return list_verb_suj, list_verb_obj, list_adj"
   ]
  },
  {
   "cell_type": "code",
   "execution_count": null,
   "id": "2be6a1fc-564d-4fc5-b6ad-aed7591a7491",
   "metadata": {},
   "outputs": [],
   "source": [
    "# Sauvegarder un JSON\n",
    "with open('data.json', 'w', encoding='utf-8') as f:\n",
    "    json.dump(data, f)"
   ]
  },
  {
   "cell_type": "markdown",
   "id": "bf6e5d5e-6b9d-436c-aaa5-4211e3485fad",
   "metadata": {},
   "source": [
    "### PDF\n",
    "\n",
    "Lecture et analyse des fichiers PDF peuvent être réalisées avec l'objet PdfReader de la bibliothèque [PyPDF](https://pypdf2.readthedocs.io/en/3.0.0/index.html), comme illustré par les lignes de code suivantes :"
   ]
  },
  {
   "cell_type": "code",
   "execution_count": 4,
   "id": "2092868c-2939-4403-b0f5-afcc1959e6b2",
   "metadata": {},
   "outputs": [],
   "source": [
    "import PyPDF2 as PDF"
   ]
  },
  {
   "cell_type": "code",
   "execution_count": 8,
   "id": "ed9fbdca-0ca7-4e6a-95fe-8fd0c34187ff",
   "metadata": {},
   "outputs": [],
   "source": [
    "file_path = '/home/crazyjeannot/Documents/cours/Python4DH/data/pdf/sarrasine_english.pdf'\n",
    "pdf = PDF.PdfReader(file_path)"
   ]
  },
  {
   "cell_type": "code",
   "execution_count": 9,
   "id": "6c7f427c-7f76-4904-b488-2cd2303658bc",
   "metadata": {},
   "outputs": [
    {
     "data": {
      "text/plain": [
       "<PyPDF2._reader.PdfReader at 0x7f05c1994ca0>"
      ]
     },
     "execution_count": 9,
     "metadata": {},
     "output_type": "execute_result"
    }
   ],
   "source": [
    "pdf"
   ]
  },
  {
   "cell_type": "code",
   "execution_count": null,
   "id": "06967b24-37b8-49f1-a873-8d1bbd168894",
   "metadata": {},
   "outputs": [],
   "source": [
    "n_pages = len(pdf.pages)\n",
    "print(f'PDF has {n_pages} pages.')"
   ]
  },
  {
   "cell_type": "code",
   "execution_count": null,
   "id": "27725b1e-45eb-45f7-b699-6c11664cc52c",
   "metadata": {},
   "outputs": [],
   "source": [
    "pdf.pages[I]"
   ]
  },
  {
   "cell_type": "code",
   "execution_count": 31,
   "id": "bc01837e-f9ef-473b-aa5a-935a8fb0ac79",
   "metadata": {},
   "outputs": [],
   "source": [
    "page = pdf.pages[1]"
   ]
  },
  {
   "cell_type": "code",
   "execution_count": null,
   "id": "ad7f2c97-691e-4d09-a765-b4581f0cccdf",
   "metadata": {},
   "outputs": [],
   "source": [
    "content = page.extract_text()\n",
    "print(content[:100])"
   ]
  },
  {
   "cell_type": "markdown",
   "id": "b10a3667-6531-470e-8f13-2145dec44f45",
   "metadata": {},
   "source": [
    "l'analyse des données à partir de fichiers PDF est loin d'être parfaite, en particulier l'extraction des sauts de ligne qui peut être particulièrement difficile"
   ]
  },
  {
   "cell_type": "markdown",
   "id": "6b8380a2-1439-4af6-afe4-6043531648c8",
   "metadata": {},
   "source": [
    "### Exercices !"
   ]
  },
  {
   "cell_type": "code",
   "execution_count": null,
   "id": "600d8c34-7970-47ae-8f7d-e468c01359e3",
   "metadata": {},
   "outputs": [],
   "source": [
    "def pdf2txt(fname, page_numbers=None, concatenate=False):\n",
    "    \"\"\"Convertir du texte à partir d'un fichier PDF en une chaîne de caractères ou une liste de chaînes.\n",
    "    Arguments :\n",
    "    fname : une chaîne de caractères pointant vers le nom de fichier du fichier PDF.\n",
    "    page_numbers : un entier ou une séquence d'entiers indiquant les\n",
    "    pages à extraire. Si None (par défaut), toutes les pages sont extraites.\n",
    "    concatenate : un booléen indiquant s'il faut concaténer les\n",
    "    pages extraites en une seule chaîne. Lorsque False, une liste de\n",
    "    chaînes est renvoyée.\n",
    "    Renvoie :\n",
    "    Une chaîne ou une liste de chaînes représentant le texte extrait\n",
    "    du fichier PDF fourni.\n",
    "    \"\"\"\n",
    "    \n",
    "    pdf = PDF.PdfReader(fname)\n",
    "    if page_numbers is None:\n",
    "        page_numbers = range(len(pdf.pages))\n",
    "    elif isinstance(page_numbers, int):\n",
    "        page_numbers = [page_numbers]\n",
    "    texts = [pdf.pages[n].extract_text() for n in page_numbers]\n",
    "    return '\\n'.join(texts) if concatenate else texts"
   ]
  },
  {
   "cell_type": "code",
   "execution_count": null,
   "id": "e882e4ee-28c4-49c9-8cfb-e79d294cd812",
   "metadata": {},
   "outputs": [],
   "source": []
  },
  {
   "cell_type": "code",
   "execution_count": null,
   "id": "da330697-c59a-4079-99df-133547003e64",
   "metadata": {},
   "outputs": [],
   "source": []
  }
 ],
 "metadata": {
  "kernelspec": {
   "display_name": "Python 3 (ipykernel)",
   "language": "python",
   "name": "python3"
  },
  "language_info": {
   "codemirror_mode": {
    "name": "ipython",
    "version": 3
   },
   "file_extension": ".py",
   "mimetype": "text/x-python",
   "name": "python",
   "nbconvert_exporter": "python",
   "pygments_lexer": "ipython3",
   "version": "3.10.12"
  }
 },
 "nbformat": 4,
 "nbformat_minor": 5
}
