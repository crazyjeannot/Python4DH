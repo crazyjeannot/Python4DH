{
 "cells": [
  {
   "cell_type": "markdown",
   "id": "3fd8a8aa-a7dd-4d38-941d-9f2617247fbc",
   "metadata": {},
   "source": [
    "# Exercices_seances_07-8.\n",
    "\n",
    "### Exercice 1\n",
    "\n",
    "À partir du csv envoyé (qui est la même sortie que pour l'exercice de la semaine passée, mais avec le compte des adjectifs/verbes à l'échelle des romans, et non des personnages).  \n",
    "\n",
    "\n",
    " 1/ Écrire une fonction qui prend en paramètre un dataframe (le csv donné), deux mots qui vous sembles pertinents (à choisir parmi les N colonnes), et un paramètre `distance` (==`\"euclidienne\"` ou `\"cosine\"`). Cette fonction calcule la distance cosine ou euclidienne deux à deux entre chaque roman, et renvoie le dataframe des distances (N lignes = N romans, N colonnes = N romans). La fonction affiche A/ la distance maximale entre deux romans, B/ la distance minimale, accompagnée du couple de romans en question. \n",
    "\n",
    "2/ Même chose mais pour 100 mots tirés aléatoirement dans les colonnes. Commenter les résultats.\n",
    "\n",
    "* Bonus - Afficher avec un graphe les résultats obtenus pour la 2/, sous la forme qui vous semble la plus pertinente (nuage de points, barres, ...). Commenter le graphe.\n",
    "\n",
    "\n"
   ]
  },
  {
   "cell_type": "code",
   "execution_count": null,
   "id": "06d71fe4-4354-42db-afe9-044cd92a69f0",
   "metadata": {},
   "outputs": [],
   "source": []
  },
  {
   "cell_type": "code",
   "execution_count": null,
   "id": "d98f4e2f-0636-46b5-8f31-1dec8a759af5",
   "metadata": {},
   "outputs": [],
   "source": []
  },
  {
   "cell_type": "code",
   "execution_count": null,
   "id": "12621880-4b31-4580-8095-96aff2a0394b",
   "metadata": {},
   "outputs": [],
   "source": []
  },
  {
   "cell_type": "code",
   "execution_count": null,
   "id": "c28bc171-f699-4234-aa4a-c16015c14244",
   "metadata": {},
   "outputs": [],
   "source": []
  }
 ],
 "metadata": {
  "kernelspec": {
   "display_name": "Python 3 (ipykernel)",
   "language": "python",
   "name": "python3"
  },
  "language_info": {
   "codemirror_mode": {
    "name": "ipython",
    "version": 3
   },
   "file_extension": ".py",
   "mimetype": "text/x-python",
   "name": "python",
   "nbconvert_exporter": "python",
   "pygments_lexer": "ipython3",
   "version": "3.10.12"
  }
 },
 "nbformat": 4,
 "nbformat_minor": 5
}
